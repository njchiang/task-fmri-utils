{
 "cells": [
  {
   "cell_type": "code",
   "execution_count": null,
   "metadata": {},
   "outputs": [],
   "source": [
    "import sys\n",
    "import os\n",
    "if sys.platform == 'darwin':\n",
    "    # plat = 'mac'\n",
    "    sys.path.append(os.path.join(\"/Users\", \"njchiang\", \"GitHub\", \"task-fmri-utils\"))\n",
    "    sys.path.append(os.path.join(\"/Volumes\", \"JEFF\", projecttitle))\n",
    "    sys.path.append(os.path.join(\"/Users\", \"njchiang\", \"GitHub\", \"python-fmri-utils\", \"utils\"))\n",
    "else:\n",
    "    sys.path.append(os.path.join(\"D:\\\\\", \"GitHub\", \"task-fmri-utils\"))\n",
    "    sys.path.append(os.path.join(\"D:\\\\\", \"fmri\", projecttitle))\n",
    "    sys.path.append(os.path.join(\"D:\\\\\", \"GitHub\", \"python-fmri-utils\", \"utils\"))"
   ]
  },
  {
   "cell_type": "code",
   "execution_count": null,
   "metadata": {},
   "outputs": [],
   "source": [
    "import projectutils as pu\n",
    "import projectanalysis as pa\n",
    "import logging"
   ]
  },
  {
   "cell_type": "code",
   "execution_count": null,
   "metadata": {},
   "outputs": [],
   "source": [
    "paths, sublist, contrasts = pu.initpaths()\n",
    "con = None\n",
    "debug = False\n",
    "write = False\n",
    "roi = 'grayMatter'\n",
    "dstype = 'raw'\n",
    "projecttitle = ''\n",
    "r = 4  # searchlight radius\n",
    "sg_params = [49, 2]"
   ]
  },
  {
   "cell_type": "code",
   "execution_count": null,
   "metadata": {},
   "outputs": [],
   "source": [
    "# need a trial_type attribute\n",
    "print \"Mask: \" + str(roi)\n",
    "print \"Full Model: \" + str(con)\n",
    "print \"Searchlight Radius: \" + str(r)\n",
    "print \"Write results: \" + str(write)\n",
    "mc_params = pu.loadmotionparams(paths, sublist)\n",
    "logging.basicConfig(level=logging.DEBUG)"
   ]
  },
  {
   "cell_type": "code",
   "execution_count": null,
   "metadata": {},
   "outputs": [],
   "source": [
    "for s in sublist.keys():\n",
    "    if dstype == \"LSS\" or dstype == \"LSA\":\n",
    "        rds = pu.preprocess_betas(paths, sub, btype=\"LSS\", c=\"trial_type\", roi=roi, z=True)\n",
    "    else:\n",
    "        ds = pu.preprocess_data(paths, sublist, s, filter_params=sg_params, roi=roi, z=True)\n",
    "        design_kwargs = {'add_regs': mc_params[s], 'hrf_model': 'canonical'}\n",
    "        rds = pa.beta_extract(ds, events, design_kwargs=design_kwargs)\n",
    "\n",
    "    writeopts = {'sub': s, 'roi': roi, 'outdir': os.path.join('multivariate', 'searchlight'), 'con': con}\n",
    "    sorted_rds = pu.sortds(rds, c='trial_type')\n",
    "    pa.searchlight(paths, ds, clf=None, cv=None, writeopts=writeopts)"
   ]
  },
  {
   "cell_type": "code",
   "execution_count": null,
   "metadata": {},
   "outputs": [],
   "source": [
    ""
   ]
  }
 ],
 "metadata": {},
 "nbformat": 4,
 "nbformat_minor": 0
}