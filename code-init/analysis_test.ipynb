{
 "cells": [
  {
   "cell_type": "code",
   "execution_count": 1,
   "metadata": {},
   "outputs": [],
   "source": [
    "projecttitle = 'LanguageMVPA'\n",
    "import sys\n",
    "import os\n",
    "if sys.platform == 'darwin':\n",
    "    sys.path.append(os.path.join(\"/Users\", \"njchiang\", \"GitHub\", \"task-fmri-utils\"))\n",
    "    sys.path.append(os.path.join(\"/Users\", \"njchiang\", \"GitHub\", \"task-fmri-utils\", \"code-init\"))\n",
    "    sys.path.append(os.path.join(\"/Volumes\", \"JEFF\", \"UCLA\", projecttitle, \"code\"))\n",
    "else:\n",
    "    sys.path.append(os.path.join(\"D:\\\\\", \"GitHub\", \"task-fmri-utils\"))\n",
    "    sys.path.append(os.path.join(\"D:\\\\\", \"fmri\", projecttitle, \"code\"))"
   ]
  },
  {
   "cell_type": "code",
   "execution_count": 2,
   "metadata": {},
   "outputs": [],
   "source": [
    "from project_code import projectutils as pu\n",
    "from fmri_core import projectanalysis as pa\n",
    "import logging"
   ]
  },
  {
   "cell_type": "code",
   "execution_count": 3,
   "metadata": {},
   "outputs": [
    {
     "name": "stdout",
     "output_type": "stream",
     "text": [
      "Initializing...\nI/O error:\n"
     ]
    }
   ],
   "source": [
    "paths, sublist, contrasts = pu.initpaths()\n",
    "con = None\n",
    "debug = False\n",
    "write = False\n",
    "roi = 'grayMatter'\n",
    "dstype = 'raw'\n",
    "r = 4  # searchlight radius\n",
    "sg_params = [49, 2]"
   ]
  },
  {
   "cell_type": "code",
   "execution_count": 7,
   "metadata": {},
   "outputs": [
    {
     "name": "stdout",
     "output_type": "stream",
     "text": [
      "Mask: grayMatter\nFull Model: None\nSearchlight Radius: 4\nWrite results: False\n"
     ]
    }
   ],
   "source": [
    "# need a trial_type attribute\n",
    "sublist={'LMVPA001': [\"Run1\"]}\n",
    "print \"Mask: \" + str(roi)\n",
    "print \"Full Model: \" + str(con)\n",
    "print \"Searchlight Radius: \" + str(r)\n",
    "print \"Write results: \" + str(write)\n",
    "logging.basicConfig(level=logging.DEBUG)"
   ]
  },
  {
   "cell_type": "code",
   "execution_count": null,
   "metadata": {},
   "outputs": [],
   "source": [
    "mc_params = pu.loadmotionparams(paths, sublist)\n"
   ]
  },
  {
   "cell_type": "code",
   "execution_count": null,
   "metadata": {},
   "outputs": [],
   "source": [
    "for s in sublist.keys():\n",
    "    if dstype == \"LSS\" or dstype == \"LSA\":\n",
    "        rds = pu.preprocess_betas(paths, sub, btype=\"LSS\", c=\"trial_type\", roi=roi, z=True)\n",
    "    else:\n",
    "        ds, events = pu.preprocess_data(paths, sublist, s, \n",
    "                                        filter_params=sg_params, roi=roi, z=True)\n",
    "        design_kwargs = {'add_regs': mc_params[s], 'hrf_model': 'canonical'}\n",
    "        evds = pa.beta_extract(ds, events, design_kwargs=design_kwargs)\n",
    "        rds = pu.replacetargets(evds, contrasts, thisContrast)\n",
    "        rds = fds[fds.targets != '0']\n",
    "    writeopts = {'outdir': os.path.join('multivariate', 'searchlight'), \n",
    "                 'sub': s, 'roi': roi,  'con': con}\n",
    "    sorted_rds = pu.sortds(rds, c='trial_type')\n",
    "    pa.searchlight(paths, ds, clf=None, cv=None, writeopts=writeopts)"
   ]
  },
  {
   "cell_type": "code",
   "execution_count": null,
   "metadata": {},
   "outputs": [],
   "source": [
    "for s in sublist.keys():\n",
    "    ds, events = pu.preprocess_data(paths, sublist, s, \n",
    "                                    filter_params=sg_params, roi=roi, z=True)\n",
    "    design_kwargs = {'add_regs': None, 'hrf_model': 'canonical', 'drift_model': 'blank'}\n",
    "    \n",
    "    rds, des = pu.preprocess_encoding(ds=ds, events=events, c=con, \n",
    "                                      mp=mc_params[s], design_kwargs=design_kwargs)\n",
    "    des.show()\n",
    "    writeopts = {'outdir': os.path.join('multivariate', 'encoding'), \n",
    "                 'sub': s, 'roi': roi, 'con': con}\n",
    "    bsargs = {'part_attr': 'chunks', 'mode': 'test', 'single_alpha': True, 'normalpha': False,\n",
    "              'nboots': 50, 'corrmin': .2, 'singcutoff': 1e-10, 'joined': None, 'plot': False, 'use_corr': True}\n",
    "    pa.encoding(paths, ds=rds, des=des, c=con, \n",
    "                chunklen, nchunks, alphas=None, \n",
    "                writeopts=None, bsargs=None)"
   ]
  }
 ],
 "metadata": {},
 "nbformat": 4,
 "nbformat_minor": 0
}