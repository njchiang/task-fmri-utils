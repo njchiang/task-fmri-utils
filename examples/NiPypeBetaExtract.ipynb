{
 "cells": [
  {
   "cell_type": "markdown",
   "metadata": {
    "collapsed": true
   },
   "source": [
    "# Beta Extraction using niPype and FSL"
   ]
  },
  {
   "cell_type": "code",
   "execution_count": null,
   "metadata": {},
   "outputs": [],
   "source": [
    "from __future__ import print_function\n",
    "from __future__ import division\n",
    "from builtins import str\n",
    "from builtins import range\n",
    "\n",
    "import os                                    # system functions\n",
    "\n",
    "import nipype.interfaces.io as nio           # Data i/o\n",
    "import nipype.interfaces.fsl as fsl          # fsl\n",
    "import nipype.interfaces.utility as util     # utility\n",
    "import nipype.pipeline.engine as pe          # pypeline engine\n",
    "import nipype.algorithms.modelgen as model   # model generation\n",
    "import nipype.algorithms.rapidart as ra      # artifact detection\n"
   ]
  },
  {
   "cell_type": "code",
   "execution_count": null,
   "metadata": {},
   "outputs": [],
   "source": [
    "\"\"\"\n",
    "Preliminaries\n",
    "-------------\n",
    "\n",
    "Setup any package specific configuration. The output file format for FSL\n",
    "routines is being set to compressed NIFTI.\n",
    "\"\"\"\n",
    "\n",
    "fsl.FSLCommand.set_default_output_type('NIFTI_GZ')\n"
   ]
  },
  {
   "cell_type": "code",
   "execution_count": null,
   "metadata": {},
   "outputs": [],
   "source": [
    "\"\"\"Setup preprocessing workflow\n",
    "----------------------------\n",
    "\n",
    "This is a generic fsl feat preprocessing workflow encompassing skull stripping,\n",
    "motion correction and smoothing operations.\n",
    "\n",
    "\"\"\"\n",
    "\n",
    "preproc = pe.Workflow(name='preproc')"
   ]
  },
  {
   "cell_type": "code",
   "execution_count": null,
   "metadata": {},
   "outputs": [],
   "source": [
    "inputnode = pe.Node(interface=util.IdentityInterface(fields=['func',\n",
    "                                                             'struct', ]),\n",
    "                    name='inputspec')\n"
   ]
  },
  {
   "cell_type": "code",
   "execution_count": null,
   "metadata": {},
   "outputs": [],
   "source": [
    "\"\"\"\n",
    "Convert functional images to float representation. Since there can be more than\n",
    "one functional run we use a MapNode to convert each run.\n",
    "\"\"\"\n",
    "\n",
    "img2float = pe.MapNode(interface=fsl.ImageMaths(out_data_type='float',\n",
    "                                                op_string='',\n",
    "                                                suffix='_dtype'),\n",
    "                       iterfield=['in_file'],\n",
    "                       name='img2float')\n",
    "preproc.connect(inputnode, 'func', img2float, 'in_file')"
   ]
  },
  {
   "cell_type": "code",
   "execution_count": null,
   "metadata": {},
   "outputs": [],
   "source": [
    "\"\"\"\n",
    "Extract the middle volume of the first run as the reference\n",
    "\"\"\"\n",
    "\n",
    "extract_ref = pe.Node(interface=fsl.ExtractROI(t_size=1),\n",
    "                      name='extractref')\n"
   ]
  },
  {
   "cell_type": "code",
   "execution_count": null,
   "metadata": {},
   "outputs": [],
   "source": [
    "\"\"\"\n",
    "Define a function to pick the first file from a list of files\n",
    "\"\"\"\n",
    "\n",
    "\n",
    "def pickfirst(files):\n",
    "    if isinstance(files, list):\n",
    "        return files[0]\n",
    "    else:\n",
    "        return files\n",
    "\n",
    "preproc.connect(img2float, ('out_file', pickfirst), extract_ref, 'in_file')"
   ]
  },
  {
   "cell_type": "code",
   "execution_count": null,
   "metadata": {},
   "outputs": [],
   "source": [
    "\"\"\"\n",
    "Define a function to return the 1 based index of the middle volume\n",
    "\"\"\"\n",
    "\n",
    "\n",
    "def getmiddlevolume(func):\n",
    "    from nibabel import load\n",
    "    from nipype.utils import NUMPY_MMAP\n",
    "    funcfile = func\n",
    "    if isinstance(func, list):\n",
    "        funcfile = func[0]\n",
    "    _, _, _, timepoints = load(funcfile, mmap=NUMPY_MMAP).shape\n",
    "    return int(timepoints / 2) - 1\n",
    "\n",
    "preproc.connect(inputnode, ('func', getmiddlevolume), extract_ref, 't_min')"
   ]
  },
  {
   "cell_type": "code",
   "execution_count": null,
   "metadata": {},
   "outputs": [],
   "source": [
    "\"\"\"\n",
    "Realign the functional runs to the middle volume of the first run\n",
    "\"\"\"\n",
    "\n",
    "motion_correct = pe.MapNode(interface=fsl.MCFLIRT(save_mats=True,\n",
    "                                                  save_plots=True),\n",
    "                            name='realign',\n",
    "                            iterfield=['in_file'])\n",
    "preproc.connect(img2float, 'out_file', motion_correct, 'in_file')\n",
    "preproc.connect(extract_ref, 'roi_file', motion_correct, 'ref_file')\n"
   ]
  },
  {
   "cell_type": "code",
   "execution_count": null,
   "metadata": {},
   "outputs": [],
   "source": [
    "\"\"\"\n",
    "Plot the estimated motion parameters\n",
    "\"\"\"\n",
    "\n",
    "plot_motion = pe.MapNode(interface=fsl.PlotMotionParams(in_source='fsl'),\n",
    "                         name='plot_motion',\n",
    "                         iterfield=['in_file'])\n",
    "plot_motion.iterables = ('plot_type', ['rotations', 'translations'])\n",
    "preproc.connect(motion_correct, 'par_file', plot_motion, 'in_file')\n"
   ]
  },
  {
   "cell_type": "code",
   "execution_count": null,
   "metadata": {},
   "outputs": [],
   "source": [
    "\"\"\"\n",
    "Extract the mean volume of the first functional run\n",
    "\"\"\"\n",
    "\n",
    "meanfunc = pe.Node(interface=fsl.ImageMaths(op_string='-Tmean',\n",
    "                                            suffix='_mean'),\n",
    "                   name='meanfunc')\n",
    "preproc.connect(motion_correct, ('out_file', pickfirst), meanfunc, 'in_file')\n"
   ]
  },
  {
   "cell_type": "code",
   "execution_count": null,
   "metadata": {},
   "outputs": [],
   "source": [
    "\"\"\"\n",
    "Strip the skull from the mean functional to generate a mask\n",
    "\"\"\"\n",
    "\n",
    "meanfuncmask = pe.Node(interface=fsl.BET(mask=True,\n",
    "                                         no_output=True,\n",
    "                                         frac=0.3),\n",
    "                       name='meanfuncmask')\n",
    "preproc.connect(meanfunc, 'out_file', meanfuncmask, 'in_file')\n"
   ]
  },
  {
   "cell_type": "code",
   "execution_count": null,
   "metadata": {},
   "outputs": [],
   "source": [
    "\"\"\"\n",
    "Mask the functional runs with the extracted mask\n",
    "\"\"\"\n",
    "\n",
    "maskfunc = pe.MapNode(interface=fsl.ImageMaths(suffix='_bet',\n",
    "                                               op_string='-mas'),\n",
    "                      iterfield=['in_file'],\n",
    "                      name='maskfunc')\n",
    "preproc.connect(motion_correct, 'out_file', maskfunc, 'in_file')\n",
    "preproc.connect(meanfuncmask, 'mask_file', maskfunc, 'in_file2')\n",
    "\n"
   ]
  },
  {
   "cell_type": "code",
   "execution_count": null,
   "metadata": {},
   "outputs": [],
   "source": [
    "\"\"\"\n",
    "Determine the 2nd and 98th percentile intensities of each functional run\n",
    "\"\"\"\n",
    "\n",
    "getthresh = pe.MapNode(interface=fsl.ImageStats(op_string='-p 2 -p 98'),\n",
    "                       iterfield=['in_file'],\n",
    "                       name='getthreshold')\n",
    "preproc.connect(maskfunc, 'out_file', getthresh, 'in_file')\n"
   ]
  },
  {
   "cell_type": "code",
   "execution_count": null,
   "metadata": {},
   "outputs": [],
   "source": [
    "\"\"\"\n",
    "Threshold the first run of the functional data at 10% of the 98th percentile\n",
    "\"\"\"\n",
    "\n",
    "threshold = pe.Node(interface=fsl.ImageMaths(out_data_type='char',\n",
    "                                             suffix='_thresh'),\n",
    "                    name='threshold')\n",
    "preproc.connect(maskfunc, ('out_file', pickfirst), threshold, 'in_file')\n"
   ]
  },
  {
   "cell_type": "code",
   "execution_count": null,
   "metadata": {},
   "outputs": [],
   "source": [
    "\"\"\"\n",
    "Define a function to get 10% of the intensity\n",
    "\"\"\"\n",
    "\n",
    "\n",
    "def getthreshop(thresh):\n",
    "    return '-thr %.10f -Tmin -bin' % (0.1 * thresh[0][1])\n",
    "preproc.connect(getthresh, ('out_stat', getthreshop), threshold, 'op_string')\n"
   ]
  },
  {
   "cell_type": "code",
   "execution_count": null,
   "metadata": {},
   "outputs": [],
   "source": [
    "\"\"\"\n",
    "Determine the median value of the functional runs using the mask\n",
    "\"\"\"\n",
    "\n",
    "medianval = pe.MapNode(interface=fsl.ImageStats(op_string='-k %s -p 50'),\n",
    "                       iterfield=['in_file'],\n",
    "                       name='medianval')\n",
    "preproc.connect(motion_correct, 'out_file', medianval, 'in_file')\n",
    "preproc.connect(threshold, 'out_file', medianval, 'mask_file')\n"
   ]
  },
  {
   "cell_type": "code",
   "execution_count": null,
   "metadata": {},
   "outputs": [],
   "source": [
    "\"\"\"\n",
    "Dilate the mask\n",
    "\"\"\"\n",
    "\n",
    "dilatemask = pe.Node(interface=fsl.ImageMaths(suffix='_dil',\n",
    "                                              op_string='-dilF'),\n",
    "                     name='dilatemask')\n",
    "preproc.connect(threshold, 'out_file', dilatemask, 'in_file')\n"
   ]
  },
  {
   "cell_type": "code",
   "execution_count": null,
   "metadata": {},
   "outputs": [],
   "source": [
    "\"\"\"\n",
    "Mask the motion corrected functional runs with the dilated mask\n",
    "\"\"\"\n",
    "\n",
    "maskfunc2 = pe.MapNode(interface=fsl.ImageMaths(suffix='_mask',\n",
    "                                                op_string='-mas'),\n",
    "                       iterfield=['in_file'],\n",
    "                       name='maskfunc2')\n",
    "preproc.connect(motion_correct, 'out_file', maskfunc2, 'in_file')\n",
    "preproc.connect(dilatemask, 'out_file', maskfunc2, 'in_file2')\n"
   ]
  },
  {
   "cell_type": "code",
   "execution_count": null,
   "metadata": {},
   "outputs": [],
   "source": [
    "\"\"\"\n",
    "Determine the mean image from each functional run\n",
    "\"\"\"\n",
    "\n",
    "meanfunc2 = pe.MapNode(interface=fsl.ImageMaths(op_string='-Tmean',\n",
    "                                                suffix='_mean'),\n",
    "                       iterfield=['in_file'],\n",
    "                       name='meanfunc2')\n",
    "preproc.connect(maskfunc2, 'out_file', meanfunc2, 'in_file')\n"
   ]
  },
  {
   "cell_type": "code",
   "execution_count": null,
   "metadata": {},
   "outputs": [],
   "source": [
    "\"\"\"\n",
    "Merge the median values with the mean functional images into a coupled list\n",
    "\"\"\"\n",
    "\n",
    "mergenode = pe.Node(interface=util.Merge(2, axis='hstack'),\n",
    "                    name='merge')\n",
    "preproc.connect(meanfunc2, 'out_file', mergenode, 'in1')\n",
    "preproc.connect(medianval, 'out_stat', mergenode, 'in2')\n"
   ]
  },
  {
   "cell_type": "code",
   "execution_count": null,
   "metadata": {},
   "outputs": [],
   "source": [
    "\"\"\"\n",
    "Smooth each run using SUSAN with the brightness threshold set to 75% of the\n",
    "median value for each run and a mask constituting the mean functional\n",
    "\"\"\"\n",
    "\n",
    "smooth = pe.MapNode(interface=fsl.SUSAN(),\n",
    "                    iterfield=['in_file', 'brightness_threshold', 'usans'],\n",
    "                    name='smooth')\n"
   ]
  },
  {
   "cell_type": "code",
   "execution_count": null,
   "metadata": {},
   "outputs": [],
   "source": [
    "\"\"\"\n",
    "Define a function to get the brightness threshold for SUSAN\n",
    "\"\"\"\n",
    "\n",
    "\n",
    "def getbtthresh(medianvals):\n",
    "    return [0.75 * val for val in medianvals]\n",
    "\n",
    "\n",
    "def getusans(x):\n",
    "    return [[tuple([val[0], 0.75 * val[1]])] for val in x]\n",
    "\n",
    "preproc.connect(maskfunc2, 'out_file', smooth, 'in_file')\n",
    "preproc.connect(medianval, ('out_stat', getbtthresh), smooth, 'brightness_threshold')\n",
    "preproc.connect(mergenode, ('out', getusans), smooth, 'usans')\n"
   ]
  },
  {
   "cell_type": "code",
   "execution_count": null,
   "metadata": {},
   "outputs": [],
   "source": [
    "\"\"\"\n",
    "Mask the smoothed data with the dilated mask\n",
    "\"\"\"\n",
    "\n",
    "maskfunc3 = pe.MapNode(interface=fsl.ImageMaths(suffix='_mask',\n",
    "                                                op_string='-mas'),\n",
    "                       iterfield=['in_file'],\n",
    "                       name='maskfunc3')\n",
    "preproc.connect(smooth, 'smoothed_file', maskfunc3, 'in_file')\n",
    "preproc.connect(dilatemask, 'out_file', maskfunc3, 'in_file2')\n"
   ]
  },
  {
   "cell_type": "code",
   "execution_count": null,
   "metadata": {},
   "outputs": [],
   "source": [
    "\"\"\"\n",
    "Scale each volume of the run so that the median value of the run is set to 10000\n",
    "\"\"\"\n",
    "\n",
    "intnorm = pe.MapNode(interface=fsl.ImageMaths(suffix='_intnorm'),\n",
    "                     iterfield=['in_file', 'op_string'],\n",
    "                     name='intnorm')\n",
    "preproc.connect(maskfunc3, 'out_file', intnorm, 'in_file')\n"
   ]
  },
  {
   "cell_type": "code",
   "execution_count": null,
   "metadata": {},
   "outputs": [],
   "source": [
    "\"\"\"\n",
    "Define a function to get the scaling factor for intensity normalization\n",
    "\"\"\"\n",
    "\n",
    "\n",
    "def getinormscale(medianvals):\n",
    "    return ['-mul %.10f' % (10000. / val) for val in medianvals]\n",
    "preproc.connect(medianval, ('out_stat', getinormscale), intnorm, 'op_string')\n"
   ]
  },
  {
   "cell_type": "code",
   "execution_count": null,
   "metadata": {},
   "outputs": [],
   "source": [
    "\"\"\"\n",
    "Perform temporal highpass filtering on the data\n",
    "\"\"\"\n",
    "\n",
    "highpass = pe.MapNode(interface=fsl.ImageMaths(suffix='_tempfilt'),\n",
    "                      iterfield=['in_file'],\n",
    "                      name='highpass')\n",
    "preproc.connect(intnorm, 'out_file', highpass, 'in_file')\n"
   ]
  },
  {
   "cell_type": "code",
   "execution_count": null,
   "metadata": {},
   "outputs": [],
   "source": [
    "\"\"\"\n",
    "Generate a mean functional image from the first run\n",
    "\"\"\"\n",
    "\n",
    "meanfunc3 = pe.MapNode(interface=fsl.ImageMaths(op_string='-Tmean',\n",
    "                                                suffix='_mean'),\n",
    "                       iterfield=['in_file'],\n",
    "                       name='meanfunc3')\n",
    "preproc.connect(highpass, ('out_file', pickfirst), meanfunc3, 'in_file')\n"
   ]
  },
  {
   "cell_type": "code",
   "execution_count": null,
   "metadata": {},
   "outputs": [],
   "source": [
    "\"\"\"\n",
    "Strip the structural image and coregister the mean functional image to the\n",
    "structural image\n",
    "\"\"\"\n",
    "\n",
    "nosestrip = pe.Node(interface=fsl.BET(frac=0.3),\n",
    "                    name='nosestrip')\n",
    "skullstrip = pe.Node(interface=fsl.BET(mask=True),\n",
    "                     name='stripstruct')\n",
    "\n",
    "coregister = pe.Node(interface=fsl.FLIRT(dof=6),\n",
    "                     name='coregister')\n"
   ]
  },
  {
   "cell_type": "code",
   "execution_count": null,
   "metadata": {},
   "outputs": [],
   "source": [
    "\"\"\"\n",
    "Use :class:`nipype.algorithms.rapidart` to determine which of the\n",
    "images in the functional series are outliers based on deviations in\n",
    "intensity and/or movement.\n",
    "\"\"\"\n",
    "\n",
    "art = pe.MapNode(interface=ra.ArtifactDetect(use_differences=[True, False],\n",
    "                                             use_norm=True,\n",
    "                                             norm_threshold=1,\n",
    "                                             zintensity_threshold=3,\n",
    "                                             parameter_source='FSL',\n",
    "                                             mask_type='file'),\n",
    "                 iterfield=['realigned_files', 'realignment_parameters'],\n",
    "                 name=\"art\")\n",
    "\n",
    "\n",
    "preproc.connect([(inputnode, nosestrip, [('struct', 'in_file')]),\n",
    "                 (nosestrip, skullstrip, [('out_file', 'in_file')]),\n",
    "                 (skullstrip, coregister, [('out_file', 'in_file')]),\n",
    "                 (meanfunc2, coregister, [(('out_file', pickfirst), 'reference')]),\n",
    "                 (motion_correct, art, [('par_file', 'realignment_parameters')]),\n",
    "                 (maskfunc2, art, [('out_file', 'realigned_files')]),\n",
    "                 (dilatemask, art, [('out_file', 'mask_file')]),\n",
    "                 ])\n"
   ]
  },
  {
   "cell_type": "code",
   "execution_count": null,
   "metadata": {},
   "outputs": [],
   "source": []
  },
  {
   "cell_type": "code",
   "execution_count": null,
   "metadata": {},
   "outputs": [],
   "source": []
  },
  {
   "cell_type": "code",
   "execution_count": null,
   "metadata": {},
   "outputs": [],
   "source": []
  },
  {
   "cell_type": "code",
   "execution_count": null,
   "metadata": {},
   "outputs": [],
   "source": []
  },
  {
   "cell_type": "code",
   "execution_count": null,
   "metadata": {},
   "outputs": [],
   "source": []
  },
  {
   "cell_type": "code",
   "execution_count": null,
   "metadata": {},
   "outputs": [],
   "source": []
  },
  {
   "cell_type": "code",
   "execution_count": null,
   "metadata": {},
   "outputs": [],
   "source": []
  },
  {
   "cell_type": "code",
   "execution_count": null,
   "metadata": {},
   "outputs": [],
   "source": []
  },
  {
   "cell_type": "code",
   "execution_count": null,
   "metadata": {},
   "outputs": [],
   "source": []
  },
  {
   "cell_type": "code",
   "execution_count": null,
   "metadata": {},
   "outputs": [],
   "source": []
  },
  {
   "cell_type": "code",
   "execution_count": null,
   "metadata": {},
   "outputs": [],
   "source": []
  },
  {
   "cell_type": "code",
   "execution_count": null,
   "metadata": {},
   "outputs": [],
   "source": []
  },
  {
   "cell_type": "code",
   "execution_count": null,
   "metadata": {},
   "outputs": [],
   "source": []
  },
  {
   "cell_type": "code",
   "execution_count": null,
   "metadata": {},
   "outputs": [],
   "source": []
  }
 ],
 "metadata": {
  "kernelspec": {
   "display_name": "Python 2",
   "language": "python",
   "name": "python2"
  },
  "language_info": {
   "codemirror_mode": {
    "name": "ipython",
    "version": 2
   },
   "file_extension": ".py",
   "mimetype": "text/x-python",
   "name": "python",
   "nbconvert_exporter": "python",
   "pygments_lexer": "ipython2",
   "version": "2.7.6"
  }
 },
 "nbformat": 4,
 "nbformat_minor": 0
}
