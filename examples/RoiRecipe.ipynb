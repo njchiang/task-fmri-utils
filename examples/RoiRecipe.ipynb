{
 "cells": [
  {
   "cell_type": "markdown",
   "metadata": {
    "collapsed": true
   },
   "source": [
    "#Actual code for ROI analysis"
   ]
  },
  {
   "cell_type": "code",
   "execution_count": null,
   "metadata": {},
   "outputs": [],
   "source": [
    "%matplotlib inline\n",
    "projecttitle = 'Analogy'\n",
    "import sys, os\n",
    "if sys.platform == 'darwin':\n",
    "    sys.path.append(os.path.join(\"/Users\", \"njchiang\", \"GitHub\", \"task-fmri-utils\"))\n",
    "else:\n",
    "    sys.path.append(os.path.join(\"D:\\\\\", \"GitHub\", \"task-fmri-utils\"))"
   ]
  },
  {
   "cell_type": "code",
   "execution_count": 2,
   "metadata": {},
   "outputs": [],
   "source": [
    "import fmri_core as pa"
   ]
  },
  {
   "cell_type": "code",
   "execution_count": 3,
   "metadata": {},
   "outputs": [],
   "source": [
    "projectSettings = pa.utils.loadConfig(os.path.join('analogy', 'config', 'project.json'))\n",
    "analysisSettings = pa.utils.loadConfig(os.path.join('analogy', 'config', 'analyses.json'))"
   ]
  },
  {
   "cell_type": "code",
   "execution_count": 4,
   "metadata": {},
   "outputs": [],
   "source": [
    "# paths = projectSettings['filepaths']['osxPaths']\n",
    "paths = projectSettings['filepaths']['winPaths']"
   ]
  },
  {
   "cell_type": "markdown",
   "metadata": {},
   "source": [
    "ROI Analysis"
   ]
  },
  {
   "cell_type": "code",
   "execution_count": 5,
   "metadata": {},
   "outputs": [],
   "source": [
    "# for each subject\n",
    "# mask = lIFGoperc_bin-mask\n",
    "def runsubject(sub, mask):\n",
    "    # set image data\n",
    "    imgFile = os.path.join(paths['root'], 'derivatives', sub, 'betas', pa.utils.formatBIDSName(sub, 'task-analogy', 'betas-pymvpa.nii.gz'))\n",
    "    mask = pa.utils.loadImg(paths['root'], \n",
    "                      'derivatives', sub, 'masks', \n",
    "                      mask + '.nii.gz')\n",
    "    labels = pa.utils.loadLabels(paths['root'], \n",
    "                           'derivatives', sub, 'betas', \n",
    "                           pa.utils.formatBIDSName(sub, 'task-analogy', 'events-pymvpa.tsv'), \n",
    "                           sep='\\t', index_col=0)\n",
    "    # load image\n",
    "    maskedImg = pa.utils.maskImg(imgFile, mask)\n",
    "    # clean out timepoints of interest\n",
    "    conditionSelector = labels['ab'] == 1\n",
    "\n",
    "    # preprocessing\n",
    "    from sklearn.preprocessing import StandardScaler\n",
    "    op = StandardScaler()\n",
    "    scaledData = pa.utils.opByLabel(maskedImg, labels['chunks'], op)\n",
    "    # analysis\n",
    "    from sklearn.svm import SVC\n",
    "    clf = SVC()\n",
    "    from sklearn.model_selection import LeaveOneGroupOut\n",
    "    \n",
    "    cv = LeaveOneGroupOut().split(scaledData[conditionSelector], labels['trialtype'][conditionSelector], labels['chunks'][conditionSelector])\n",
    "    result = pa.analysis.roi(scaledData[conditionSelector], labels['abmainrel'][conditionSelector], clf, cv=cv) #, groups=labels['chunks'][conditionSelector])\n",
    "    # result = pa.unmaskImg(scaledData, mask)\n",
    "    return result"
   ]
  },
  {
   "cell_type": "code",
   "execution_count": 6,
   "metadata": {},
   "outputs": [
    {
     "name": "stdout",
     "output_type": "stream",
     "text": [
      "Reading file from: D:\\fmri\\Analogy\\derivatives\\sub-01\\masks\\lIFGoperc-bin_mask.nii.gz\n"
     ]
    },
    {
     "name": "stdout",
     "output_type": "stream",
     "text": [
      "Loading label file from: D:\\fmri\\Analogy\\derivatives\\sub-01\\betas\\sub-01_task-analogy_events-pymvpa.tsv\nMasking D:\\fmri\\Analogy\\derivatives\\sub-01\\betas\\sub-01_task-analogy_betas-pymvpa.nii.gz\n"
     ]
    }
   ],
   "source": [
    "test = runsubject('sub-01', 'lIFGoperc-bin_mask')"
   ]
  },
  {
   "cell_type": "code",
   "execution_count": 7,
   "metadata": {},
   "outputs": [
    {
     "data": {
      "text/plain": [
       "array([ 0.41666667,  0.44444444,  0.41666667,  0.36111111,  0.19444444,\n        0.47222222,  0.25      ,  0.33333333])"
      ]
     },
     "execution_count": 7,
     "metadata": {},
     "output_type": "execute_result"
    }
   ],
   "source": [
    "test"
   ]
  },
  {
   "cell_type": "code",
   "execution_count": null,
   "metadata": {},
   "outputs": [],
   "source": [
    ""
   ]
  },
  {
   "cell_type": "code",
   "execution_count": null,
   "metadata": {},
   "outputs": [],
   "source": []
  },
  {
   "cell_type": "code",
   "execution_count": null,
   "metadata": {},
   "outputs": [],
   "source": []
  },
  {
   "cell_type": "code",
   "execution_count": null,
   "metadata": {},
   "outputs": [],
   "source": []
  },
  {
   "cell_type": "code",
   "execution_count": null,
   "metadata": {},
   "outputs": [],
   "source": []
  },
  {
   "cell_type": "code",
   "execution_count": null,
   "metadata": {},
   "outputs": [],
   "source": []
  },
  {
   "cell_type": "code",
   "execution_count": null,
   "metadata": {},
   "outputs": [],
   "source": []
  },
  {
   "cell_type": "code",
   "execution_count": null,
   "metadata": {},
   "outputs": [],
   "source": []
  },
  {
   "cell_type": "code",
   "execution_count": null,
   "metadata": {},
   "outputs": [],
   "source": []
  },
  {
   "cell_type": "code",
   "execution_count": null,
   "metadata": {},
   "outputs": [],
   "source": []
  },
  {
   "cell_type": "code",
   "execution_count": null,
   "metadata": {},
   "outputs": [],
   "source": []
  }
 ],
 "metadata": {
  "kernelspec": {
   "display_name": "Python 2",
   "language": "python",
   "name": "python2"
  },
  "language_info": {
   "codemirror_mode": {
    "name": "ipython",
    "version": 2
   },
   "file_extension": ".py",
   "mimetype": "text/x-python",
   "name": "python",
   "nbconvert_exporter": "python",
   "pygments_lexer": "ipython2",
   "version": "2.7.6"
  }
 },
 "nbformat": 4,
 "nbformat_minor": 0
}
