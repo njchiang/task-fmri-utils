{
 "cells": [
  {
   "cell_type": "markdown",
   "metadata": {
    "collapsed": true
   },
   "source": [
    "# Encoding analysis"
   ]
  },
  {
   "cell_type": "code",
   "execution_count": 1,
   "metadata": {
    "collapsed": true
   },
   "outputs": [],
   "source": [
    "%matplotlib inline\n",
    "projecttitle = 'Analogy'\n",
    "import sys, os\n",
    "if sys.platform == 'darwin':\n",
    "    \n",
    "    sys.path.append(os.path.join(\"/Users\", \"njchiang\", \"GitHub\", \"task-fmri-utils\"))\n",
    "else:\n",
    "    sys.path.append(os.path.join(\"D:\\\\\", \"GitHub\", \"task-fmri-utils\"))"
   ]
  },
  {
   "cell_type": "code",
   "execution_count": 2,
   "metadata": {
    "collapsed": true
   },
   "outputs": [],
   "source": [
    "from fmri_core import analysis as pa\n",
    "from fmri_core import utils as pu"
   ]
  },
  {
   "cell_type": "code",
   "execution_count": 3,
   "metadata": {},
   "outputs": [],
   "source": [
    "os.chdir(\"D:\\\\CloudStation\\\\Grad\\\\Research\\\\montilab-ucla\")"
   ]
  },
  {
   "cell_type": "code",
   "execution_count": 4,
   "metadata": {},
   "outputs": [
    {
     "name": "stdout",
     "output_type": "stream",
     "text": [
      "Loading JSON config from analogy\\config\\project.json\n",
      "Loading JSON config from analogy\\config\\analyses.json\n"
     ]
    }
   ],
   "source": [
    "projectSettings = pu.loadConfig(os.path.join('analogy', 'config', 'project.json'))\n",
    "analysisSettings = pu.loadConfig(os.path.join('analogy', 'config', 'analyses.json'))"
   ]
  },
  {
   "cell_type": "code",
   "execution_count": 4,
   "metadata": {
    "collapsed": true
   },
   "outputs": [],
   "source": [
    "# paths = projectSettings['filepaths']['osxPaths']\n",
    "paths = projectSettings['filepaths']['winPaths']"
   ]
  },
  {
   "cell_type": "markdown",
   "metadata": {},
   "source": [
    "Searchlight Analysis"
   ]
  },
  {
   "cell_type": "code",
   "execution_count": 5,
   "metadata": {},
   "outputs": [
    {
     "data": {
      "text/plain": [
       "{'param': 0,\n",
       " 'postprob_template': '{}.mat',\n",
       " 'rstpostprob79': 'rstpostprob',\n",
       " 'rstpostprob9': 'rstpostprob_sm'}"
      ]
     },
     "execution_count": 5,
     "metadata": {},
     "output_type": "execute_result"
    }
   ],
   "source": [
    "analysisSettings['encoding']"
   ]
  },
  {
   "cell_type": "code",
   "execution_count": 6,
   "metadata": {
    "collapsed": true
   },
   "outputs": [],
   "source": [
    "# for each subject\n",
    "# mask = lIFGoperc_bin-mask\n",
    "def runsubject(sub, mask):\n",
    "    # set image data\n",
    "    import numpy as np\n",
    "    imgFile = os.path.join(paths['root'], 'derivatives', sub, 'betas', pa.formatBIDSName(sub, 'task-analogy', 'betas-pymvpa.nii.gz'))\n",
    "    mask = pa.loadImg(paths['root'], \n",
    "                      'derivatives', sub, 'masks', \n",
    "                      mask + '.nii.gz')\n",
    "    labels = pa.loadLabels(paths['root'], \n",
    "                           'derivatives', sub, 'betas', \n",
    "                           pa.formatBIDSName(sub, 'task-analogy', 'events-pymvpa.tsv'), \n",
    "                           sep='\\t', index_col=0)\n",
    "    # load image\n",
    "    maskedImg = pa.maskImg(imgFile, mask)\n",
    "    # clean out timepoints of interest\n",
    "    conditionSelector = labels['ab'] == 1\n",
    "\n",
    "    # preprocessing\n",
    "    from sklearn.preprocessing import StandardScaler\n",
    "    op = StandardScaler()\n",
    "    scaledData = pa.opByLabel(maskedImg, labels['chunks'], op)\n",
    "    # analysis\n",
    "    from sklearn.svm import SVC\n",
    "    clf = SVC()\n",
    "    from sklearn.model_selection import LeaveOneGroupOut\n",
    "    cv = LeaveOneGroupOut()\n",
    "    result = pa.searchlight(pa.unmaskImg(scaledData[conditionSelector], mask), \n",
    "                            labels['abmainrel'][conditionSelector], m=mask, cv=cv, \n",
    "                            groups=labels['chunks'][conditionSelector],\n",
    "                            **analysisSettings['searchlight'])\n",
    "    \n",
    "    return result"
   ]
  },
  {
   "cell_type": "code",
   "execution_count": 7,
   "metadata": {
    "collapsed": true
   },
   "outputs": [
    {
     "name": "stdout",
     "output_type": "stream",
     "text": [
      "Reading file from: D:\\fmri\\Analogy\\derivatives\\sub-01\\masks\\lIFGoperc-bin_mask.nii.gz\n",
      "Loading label file from: D:\\fmri\\Analogy\\derivatives\\sub-01\\betas\\sub-01_task-analogy_events-pymvpa.tsv\n",
      "Masking D:\\fmri\\Analogy\\derivatives\\sub-01\\betas\\sub-01_task-analogy_betas-pymvpa.nii.gz\n",
      "starting searchlight... \n",
      "searchlight params: {'process_mask_img': None, 'radius': 5, 'n_jobs': -1, 'verbose': 0}\n"
     ]
    }
   ],
   "source": [
    "test = runsubject('sub-01', 'lIFGoperc-bin_mask')"
   ]
  },
  {
   "cell_type": "code",
   "execution_count": 8,
   "metadata": {},
   "outputs": [
    {
     "data": {
      "text/plain": [
       "(104, 104, 60)"
      ]
     },
     "execution_count": 8,
     "metadata": {},
     "output_type": "execute_result"
    }
   ],
   "source": [
    "test.scores_.shape"
   ]
  },
  {
   "cell_type": "code",
   "execution_count": 24,
   "metadata": {},
   "outputs": [
    {
     "data": {
      "text/plain": [
       "array([1, 1, 1, 1, 1, 1, 1, 1, 1, 1, 1, 1, 1, 1, 1, 1, 2, 2, 2, 2, 2, 2, 2,\n",
       "       2, 2, 2, 2, 2, 2, 2])"
      ]
     },
     "execution_count": 24,
     "metadata": {},
     "output_type": "execute_result"
    }
   ],
   "source": [
    "import numpy as np\n",
    "frames=30\n",
    "groups = np.arange(frames) > frames/2 \n",
    "groups = groups.astype(np.int32) + 1\n",
    "groups"
   ]
  },
  {
   "cell_type": "markdown",
   "metadata": {},
   "source": [
    "Can use PredefinedSplit"
   ]
  },
  {
   "cell_type": "code",
   "execution_count": null,
   "metadata": {
    "collapsed": true
   },
   "outputs": [],
   "source": []
  }
 ],
 "metadata": {
  "kernelspec": {
   "display_name": "Python 3",
   "language": "python",
   "name": "python3"
  },
  "language_info": {
   "codemirror_mode": {
    "name": "ipython",
    "version": 3
   },
   "file_extension": ".py",
   "mimetype": "text/x-python",
   "name": "python",
   "nbconvert_exporter": "python",
   "pygments_lexer": "ipython3",
   "version": "3.6.1"
  }
 },
 "nbformat": 4,
 "nbformat_minor": 1
}
