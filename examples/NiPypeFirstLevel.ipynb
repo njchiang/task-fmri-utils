{
 "cells": [
  {
   "cell_type": "markdown",
   "metadata": {
    "collapsed": true
   },
   "source": [
    "# Preprocessing using niPype and FSL"
   ]
  },
  {
   "cell_type": "code",
   "execution_count": null,
   "metadata": {},
   "outputs": [],
   "source": [
    "\"\"\"\n",
    "Set up model fitting workflow\n",
    "-----------------------------\n",
    "\n",
    "\"\"\"\n",
    "\n",
    "modelfit = pe.Workflow(name='modelfit')"
   ]
  },
  {
   "cell_type": "code",
   "execution_count": null,
   "metadata": {},
   "outputs": [],
   "source": [
    "\n",
    "\"\"\"\n",
    "Use :class:`nipype.algorithms.modelgen.SpecifyModel` to generate design information.\n",
    "\"\"\"\n",
    "\n",
    "modelspec = pe.Node(interface=model.SpecifyModel(), name=\"modelspec\")"
   ]
  },
  {
   "cell_type": "code",
   "execution_count": null,
   "metadata": {},
   "outputs": [],
   "source": [
    "\n",
    "\"\"\"\n",
    "Use :class:`nipype.interfaces.fsl.Level1Design` to generate a run specific fsf\n",
    "file for analysis\n",
    "\"\"\"\n",
    "\n",
    "level1design = pe.Node(interface=fsl.Level1Design(), name=\"level1design\")"
   ]
  },
  {
   "cell_type": "code",
   "execution_count": null,
   "metadata": {},
   "outputs": [],
   "source": [
    "\n",
    "\"\"\"\n",
    "Use :class:`nipype.interfaces.fsl.FEATModel` to generate a run specific mat\n",
    "file for use by FILMGLS\n",
    "\"\"\"\n",
    "\n",
    "modelgen = pe.MapNode(interface=fsl.FEATModel(), name='modelgen',\n",
    "                      iterfield=['fsf_file', 'ev_files'])"
   ]
  },
  {
   "cell_type": "code",
   "execution_count": null,
   "metadata": {},
   "outputs": [],
   "source": [
    "\n",
    "\"\"\"\n",
    "Use :class:`nipype.interfaces.fsl.FILMGLS` to estimate a model specified by a\n",
    "mat file and a functional run\n",
    "\"\"\"\n",
    "\n",
    "modelestimate = pe.MapNode(interface=fsl.FILMGLS(smooth_autocorr=True,\n",
    "                                                 mask_size=5,\n",
    "                                                 threshold=1000),\n",
    "                           name='modelestimate',\n",
    "                           iterfield=['design_file', 'in_file'])"
   ]
  },
  {
   "cell_type": "code",
   "execution_count": null,
   "metadata": {},
   "outputs": [],
   "source": [
    "\n",
    "\"\"\"\n",
    "Use :class:`nipype.interfaces.fsl.ContrastMgr` to generate contrast estimates\n",
    "\"\"\"\n",
    "\n",
    "conestimate = pe.MapNode(interface=fsl.ContrastMgr(), name='conestimate',\n",
    "                         iterfield=['tcon_file', 'param_estimates',\n",
    "                                    'sigmasquareds', 'corrections',\n",
    "                                    'dof_file'])\n",
    "\n",
    "modelfit.connect([\n",
    "    (modelspec, level1design, [('session_info', 'session_info')]),\n",
    "    (level1design, modelgen, [('fsf_files', 'fsf_file'),\n",
    "                              ('ev_files', 'ev_files')]),\n",
    "    (modelgen, modelestimate, [('design_file', 'design_file')]),\n",
    "    (modelgen, conestimate, [('con_file', 'tcon_file')]),\n",
    "    (modelestimate, conestimate, [('param_estimates', 'param_estimates'),\n",
    "                                  ('sigmasquareds', 'sigmasquareds'),\n",
    "                                  ('corrections', 'corrections'),\n",
    "                                  ('dof_file', 'dof_file')]),\n",
    "])"
   ]
  },
  {
   "cell_type": "code",
   "execution_count": null,
   "metadata": {},
   "outputs": [],
   "source": []
  },
  {
   "cell_type": "code",
   "execution_count": null,
   "metadata": {},
   "outputs": [],
   "source": []
  }
 ],
 "metadata": {
  "kernelspec": {
   "display_name": "Python 2",
   "language": "python",
   "name": "python2"
  },
  "language_info": {
   "codemirror_mode": {
    "name": "ipython",
    "version": 2
   },
   "file_extension": ".py",
   "mimetype": "text/x-python",
   "name": "python",
   "nbconvert_exporter": "python",
   "pygments_lexer": "ipython2",
   "version": "2.7.6"
  }
 },
 "nbformat": 4,
 "nbformat_minor": 0
}
