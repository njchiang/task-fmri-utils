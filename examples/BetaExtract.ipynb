{
 "cells": [
  {
   "cell_type": "code",
   "execution_count": 1,
   "metadata": {
    "collapsed": true
   },
   "outputs": [],
   "source": [
    "%matplotlib inline\n",
    "projecttitle = 'Analogy'\n",
    "import sys, os\n",
    "if sys.platform == 'darwin':\n",
    "    \n",
    "    sys.path.append(os.path.join(\"/Users\", \"njchiang\", \"GitHub\", \"task-fmri-utils\"))\n",
    "else:\n",
    "    sys.path.append(os.path.join(\"D:\\\\\", \"GitHub\", \"task-fmri-utils\"))"
   ]
  },
  {
   "cell_type": "code",
   "execution_count": 2,
   "metadata": {
    "collapsed": true
   },
   "outputs": [],
   "source": [
    "from fmri_core import analysis as pa\n",
    "from fmri_core import utils as pu\n",
    "import numpy as np\n",
    "import matplotlib.pyplot as plt"
   ]
  },
  {
   "cell_type": "code",
   "execution_count": 3,
   "metadata": {
    "collapsed": true
   },
   "outputs": [],
   "source": [
    "os.chdir(\"D:\\\\CloudStation\\\\Grad\\\\Research\\\\montilab-ucla\")"
   ]
  },
  {
   "cell_type": "code",
   "execution_count": 4,
   "metadata": {},
   "outputs": [
    {
     "name": "stdout",
     "output_type": "stream",
     "text": [
      "Loading JSON config from analogy\\config\\project.json\n",
      "Loading JSON config from analogy\\config\\analyses.json\n"
     ]
    },
    {
     "data": {
      "text/plain": [
       "{'n_jobs': -1, 'process_mask_img': None, 'radius': 5, 'verbose': 0}"
      ]
     },
     "execution_count": 4,
     "metadata": {},
     "output_type": "execute_result"
    }
   ],
   "source": [
    "projectSettings = pu.loadConfig(os.path.join('analogy', 'config', 'project.json'))\n",
    "analysisSettings = pu.loadConfig(os.path.join('analogy', 'config', 'analyses.json'))\n",
    "# paths = projectSettings['filepaths']['osxPaths']\n",
    "paths = projectSettings['filepaths']['winPaths']\n",
    "analysisSettings['searchlight']"
   ]
  },
  {
   "cell_type": "code",
   "execution_count": 5,
   "metadata": {},
   "outputs": [
    {
     "data": {
      "text/plain": [
       "{'cloud': 'D:\\\\CloudStation\\\\Grad\\\\Research\\\\Analogy',\n",
       " 'code': 'D:\\\\CloudStation\\\\Grad\\\\Research\\\\montilab-ucla\\\\analogy',\n",
       " 'root': 'D:\\\\fmri\\\\Analogy'}"
      ]
     },
     "execution_count": 5,
     "metadata": {},
     "output_type": "execute_result"
    }
   ],
   "source": [
    "paths"
   ]
  },
  {
   "cell_type": "code",
   "execution_count": 6,
   "metadata": {
    "collapsed": true
   },
   "outputs": [],
   "source": [
    "sub = \"sub-01\"\n",
    "run = \"run-01\""
   ]
  },
  {
   "cell_type": "code",
   "execution_count": 7,
   "metadata": {
    "collapsed": true
   },
   "outputs": [],
   "source": [
    "funcFile = (\"%s_task-analogy_%s_bold.nii.gz\" % (sub, run))\n",
    "eventFile = (\"%s_task-analogy_%s_events.tsv\" % (sub, run))\n",
    "maskFile = \"aal-LOFC-bin_mask.nii.gz\"\n"
   ]
  },
  {
   "cell_type": "code",
   "execution_count": 8,
   "metadata": {},
   "outputs": [
    {
     "name": "stdout",
     "output_type": "stream",
     "text": [
      "Masking D:\\fmri\\Analogy\\derivatives\\sub-01\\func\\sub-01_task-analogy_run-01_bold.nii.gz\n",
      "Loading label file from: D:\\fmri\\Analogy\\derivatives\\sub-01\\func\\sub-01_task-analogy_run-01_events.tsv\n"
     ]
    }
   ],
   "source": [
    "img = pu.maskImg(os.path.join(paths['root'], \n",
    "                             'derivatives', \n",
    "                             sub, 'func',\n",
    "                             funcFile),\n",
    "                os.path.join(paths['root'],\n",
    "                            'derivatives',\n",
    "                            sub, 'masks',\n",
    "                            maskFile))\n",
    "labels = pu.loadLabels(os.path.join(paths['root'],\n",
    "                                   'derivatives', \n",
    "                                   sub, 'func',\n",
    "                                   eventFile), sep=\"\\t\")"
   ]
  },
  {
   "cell_type": "code",
   "execution_count": 9,
   "metadata": {},
   "outputs": [
    {
     "data": {
      "text/plain": [
       "Index(['Onset', 'Duration', 'TrialTag', 'ABTag', 'CDTag', 'Match', 'ABMainRel',\n",
       "       'CDMainRel', 'ABSubRel', 'CDSubRel', 'ProbeResp', 'ProbeCorr',\n",
       "       'ProbeArr', 'AB', 'CD', 'Probe', 'Intensity', 'TrialType'],\n",
       "      dtype='object')"
      ]
     },
     "execution_count": 9,
     "metadata": {},
     "output_type": "execute_result"
    }
   ],
   "source": [
    "labels.keys()"
   ]
  },
  {
   "cell_type": "code",
   "execution_count": 10,
   "metadata": {
    "collapsed": true
   },
   "outputs": [],
   "source": [
    "label = [(\"%s_%s\" % (labels.iloc[i]['TrialTag'], \n",
    "                     labels.iloc[i]['TrialType'])) \n",
    "         for i in range(len(labels))]"
   ]
  },
  {
   "cell_type": "code",
   "execution_count": 11,
   "metadata": {
    "collapsed": true
   },
   "outputs": [],
   "source": [
    "tr = 1.0\n",
    "frametimes = np.arange(img.shape[0]) * tr"
   ]
  },
  {
   "cell_type": "code",
   "execution_count": 12,
   "metadata": {},
   "outputs": [
    {
     "name": "stdout",
     "output_type": "stream",
     "text": [
      "Creating design matrix...\n"
     ]
    }
   ],
   "source": [
    "des = pa.make_designmat(frametimes, label, \n",
    "                  labels['Onset'].values,\n",
    "                 labels['Duration'].values)"
   ]
  },
  {
   "cell_type": "code",
   "execution_count": 13,
   "metadata": {},
   "outputs": [
    {
     "data": {
      "text/plain": [
       "<matplotlib.axes._subplots.AxesSubplot at 0x1be0269cd68>"
      ]
     },
     "execution_count": 13,
     "metadata": {},
     "output_type": "execute_result"
    },
    {
     "data": {
      "image/png": "[encoded data removed]",
      "text/plain": [
       "<matplotlib.figure.Figure at 0x1be67925710>"
      ]
     },
     "metadata": {},
     "output_type": "display_data"
    }
   ],
   "source": [
    "des.show()"
   ]
  },
  {
   "cell_type": "code",
   "execution_count": 14,
   "metadata": {},
   "outputs": [
    {
     "name": "stdout",
     "output_type": "stream",
     "text": [
      "Creating SG filter\n"
     ]
    }
   ],
   "source": [
    "sgf = pa.sgfilter(window_length=121, polyorder=3, **analysisSettings['SGF'])\n"
   ]
  },
  {
   "cell_type": "code",
   "execution_count": 15,
   "metadata": {},
   "outputs": [],
   "source": [
    "from sklearn.linear_model import Ridge, LinearRegression\n",
    "ols = LinearRegression()\n",
    "ridge = Ridge()"
   ]
  },
  {
   "cell_type": "code",
   "execution_count": 16,
   "metadata": {},
   "outputs": [
    {
     "data": {
      "text/plain": [
       "LinearRegression(copy_X=True, fit_intercept=True, n_jobs=1, normalize=False)"
      ]
     },
     "execution_count": 16,
     "metadata": {},
     "output_type": "execute_result"
    }
   ],
   "source": [
    "ols.fit(des.matrix, sgf.fit_transform(img))"
   ]
  },
  {
   "cell_type": "code",
   "execution_count": 17,
   "metadata": {},
   "outputs": [
    {
     "data": {
      "text/plain": [
       "Ridge(alpha=1.0, copy_X=True, fit_intercept=True, max_iter=None,\n",
       "   normalize=False, random_state=None, solver='auto', tol=0.001)"
      ]
     },
     "execution_count": 17,
     "metadata": {},
     "output_type": "execute_result"
    }
   ],
   "source": [
    "ridge.fit(des.matrix, sgf.fit_transform(img))"
   ]
  },
  {
   "cell_type": "code",
   "execution_count": null,
   "metadata": {},
   "outputs": [],
   "source": [
    "ols.coef_.shap"
   ]
  },
  {
   "cell_type": "code",
   "execution_count": null,
   "metadata": {},
   "outputs": [],
   "source": [
    "a = des.names\n",
    "a.remove(\"constant\")"
   ]
  },
  {
   "cell_type": "code",
   "execution_count": null,
   "metadata": {},
   "outputs": [],
   "source": [
    "a"
   ]
  },
  {
   "cell_type": "code",
   "execution_count": null,
   "metadata": {},
   "outputs": [],
   "source": [
    "plt.imshow(pa.rdm(arr.T, square=True))"
   ]
  },
  {
   "cell_type": "code",
   "execution_count": null,
   "metadata": {},
   "outputs": [],
   "source": [
    "arr.shape"
   ]
  },
  {
   "cell_type": "code",
   "execution_count": null,
   "metadata": {},
   "outputs": [],
   "source": [
    "trialtype, trialtag = [], []\n",
    "for t in des.names:\n",
    "    curr = t.split('_')\n",
    "    trialtype += curr[0]\n",
    "    trialtag += curr[1]\n"
   ]
  },
  {
   "cell_type": "code",
   "execution_count": null,
   "metadata": {},
   "outputs": [],
   "source": [
    "des.names.index('constant')"
   ]
  },
  {
   "cell_type": "code",
   "execution_count": null,
   "metadata": {},
   "outputs": [],
   "source": [
    "ols.coef_[:, des.names.index(\"constant\")].sum()"
   ]
  },
  {
   "cell_type": "code",
   "execution_count": null,
   "metadata": {},
   "outputs": [],
   "source": [
    "for i in des.names:\n",
    "    print(i.split('_')[0], i.split('_')[1])"
   ]
  },
  {
   "cell_type": "code",
   "execution_count": null,
   "metadata": {
    "collapsed": true
   },
   "outputs": [],
   "source": []
  }
 ],
 "metadata": {
  "kernelspec": {
   "display_name": "Python 3",
   "language": "python",
   "name": "python3"
  },
  "language_info": {
   "codemirror_mode": {
    "name": "ipython",
    "version": 3
   },
   "file_extension": ".py",
   "mimetype": "text/x-python",
   "name": "python",
   "nbconvert_exporter": "python",
   "pygments_lexer": "ipython3",
   "version": "3.6.1"
  }
 },
 "nbformat": 4,
 "nbformat_minor": 1
}
