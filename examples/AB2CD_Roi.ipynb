{
 "cells": [
  {
   "cell_type": "code",
   "execution_count": 1,
   "metadata": {
    "collapsed": true
   },
   "outputs": [],
   "source": [
    "%matplotlib inline\n",
    "projecttitle = 'Analogy'\n",
    "import sys, os\n",
    "if sys.platform == 'darwin':\n",
    "    sys.path.append(os.path.join(\"/Users\", \"njchiang\", \"GitHub\", \"task-fmri-utils\"))\n",
    "else:\n",
    "    sys.path.append(os.path.join(\"D:\\\\\", \"GitHub\", \"task-fmri-utils\"))"
   ]
  },
  {
   "cell_type": "code",
   "execution_count": 4,
   "metadata": {
    "collapsed": true
   },
   "outputs": [],
   "source": [
    "from fmri_core import analysis as pa\n",
    "from fmri_core import utils as pu"
   ]
  },
  {
   "cell_type": "code",
   "execution_count": 7,
   "metadata": {},
   "outputs": [],
   "source": [
    "os.chdir(\"D:\\CloudStation\\Grad\\Research\\montilab-ucla\")"
   ]
  },
  {
   "cell_type": "code",
   "execution_count": 8,
   "metadata": {},
   "outputs": [
    {
     "name": "stdout",
     "output_type": "stream",
     "text": [
      "Loading JSON config from analogy\\config\\project.json\n",
      "Loading JSON config from analogy\\config\\analyses.json\n"
     ]
    }
   ],
   "source": [
    "projectSettings = pu.loadConfig(os.path.join('analogy', 'config', 'project.json'))\n",
    "analysisSettings = pu.loadConfig(os.path.join('analogy', 'config', 'analyses.json'))"
   ]
  },
  {
   "cell_type": "code",
   "execution_count": 25,
   "metadata": {},
   "outputs": [
    {
     "data": {
      "text/plain": [
       "dict_keys(['sub-01', 'sub-02', 'sub-03', 'sub-04', 'sub-05', 'sub-06', 'sub-07', 'sub-08', 'sub-09', 'sub-10', 'sub-11', 'sub-12', 'sub-13', 'sub-14', 'sub-15', 'sub-16'])"
      ]
     },
     "execution_count": 25,
     "metadata": {},
     "output_type": "execute_result"
    }
   ],
   "source": [
    "projectSettings['subjects'].keys()"
   ]
  },
  {
   "cell_type": "code",
   "execution_count": 9,
   "metadata": {
    "collapsed": true
   },
   "outputs": [],
   "source": [
    "paths = projectSettings['filepaths']['winPaths']"
   ]
  },
  {
   "cell_type": "code",
   "execution_count": 18,
   "metadata": {
    "collapsed": true
   },
   "outputs": [],
   "source": [
    "# for each subject\n",
    "# mask = aal-LOFC-bin_mask\n",
    "def runsubject(sub, mask):\n",
    "    # set image data\n",
    "    imgFile = os.path.join(paths['root'], 'derivatives', sub, 'betas', pu.formatBIDSName(sub, 'task-analogy', 'betas-pymvpa.nii.gz'))\n",
    "    mask = pu.loadImg(paths['root'], \n",
    "                      'derivatives', sub, 'masks', \n",
    "                      mask + '.nii.gz')\n",
    "    labels = pu.loadLabels(paths['root'], \n",
    "                           'derivatives', sub, 'betas', \n",
    "                           pu.formatBIDSName(sub, 'task-analogy', 'events-pymvpa.tsv'), \n",
    "                           sep='\\t', index_col=0)\n",
    "    # load image\n",
    "    maskedImg = pu.maskImg(imgFile, mask)\n",
    "    # clean out timepoints of interest\n",
    "    conditionSelector = labels['ab'] == 1\n",
    "\n",
    "    # preprocessing\n",
    "    from sklearn.preprocessing import StandardScaler\n",
    "    op = StandardScaler()\n",
    "    scaledData = pa.opByLabel(maskedImg, labels['chunks'], op)\n",
    "    # analysis\n",
    "    from sklearn.svm import SVC\n",
    "    clf = SVC()\n",
    "    from sklearn.model_selection import LeaveOneGroupOut\n",
    "    \n",
    "    cv = LeaveOneGroupOut().split(scaledData[conditionSelector], labels['trialtype'][conditionSelector], labels['chunks'][conditionSelector])\n",
    "    result = pa.roi(scaledData[conditionSelector], labels['abmainrel'][conditionSelector], clf, cv=cv) #, groups=labels['chunks'][conditionSelector])\n",
    "    # result = pa.unmaskImg(scaledData, mask)\n",
    "    return result\n"
   ]
  },
  {
   "cell_type": "code",
   "execution_count": 36,
   "metadata": {},
   "outputs": [
    {
     "name": "stdout",
     "output_type": "stream",
     "text": [
      "Reading file from: D:\\fmri\\Analogy\\derivatives\\sub-01\\masks\\svm-abmainrel-bin_mask.nii.gz\n",
      "Loading label file from: D:\\fmri\\Analogy\\derivatives\\sub-01\\betas\\sub-01_task-analogy_events-pymvpa.tsv\n",
      "Masking D:\\fmri\\Analogy\\derivatives\\sub-01\\betas\\sub-01_task-analogy_betas-pymvpa.nii.gz\n",
      "applying operation by label\n"
     ]
    },
    {
     "data": {
      "text/plain": [
       "0.37847222222222221"
      ]
     },
     "execution_count": 36,
     "metadata": {},
     "output_type": "execute_result"
    }
   ],
   "source": [
    "test = runsubject('sub-01', 'svm-abmainrel-bin_mask')\n",
    "test.mean()"
   ]
  },
  {
   "cell_type": "code",
   "execution_count": 37,
   "metadata": {},
   "outputs": [
    {
     "name": "stdout",
     "output_type": "stream",
     "text": [
      "Reading file from: D:\\fmri\\Analogy\\derivatives\\sub-01\\masks\\svm-abmainrel-bin_mask.nii.gz\n",
      "Loading label file from: D:\\fmri\\Analogy\\derivatives\\sub-01\\betas\\sub-01_task-analogy_events-pymvpa.tsv\n",
      "Masking D:\\fmri\\Analogy\\derivatives\\sub-01\\betas\\sub-01_task-analogy_betas-pymvpa.nii.gz\n",
      "applying operation by label\n",
      "Reading file from: D:\\fmri\\Analogy\\derivatives\\sub-02\\masks\\svm-abmainrel-bin_mask.nii.gz\n",
      "Loading label file from: D:\\fmri\\Analogy\\derivatives\\sub-02\\betas\\sub-02_task-analogy_events-pymvpa.tsv\n",
      "Masking D:\\fmri\\Analogy\\derivatives\\sub-02\\betas\\sub-02_task-analogy_betas-pymvpa.nii.gz\n",
      "applying operation by label\n",
      "Reading file from: D:\\fmri\\Analogy\\derivatives\\sub-03\\masks\\svm-abmainrel-bin_mask.nii.gz\n",
      "Loading label file from: D:\\fmri\\Analogy\\derivatives\\sub-03\\betas\\sub-03_task-analogy_events-pymvpa.tsv\n",
      "Masking D:\\fmri\\Analogy\\derivatives\\sub-03\\betas\\sub-03_task-analogy_betas-pymvpa.nii.gz\n",
      "applying operation by label\n",
      "Reading file from: D:\\fmri\\Analogy\\derivatives\\sub-04\\masks\\svm-abmainrel-bin_mask.nii.gz\n",
      "Loading label file from: D:\\fmri\\Analogy\\derivatives\\sub-04\\betas\\sub-04_task-analogy_events-pymvpa.tsv\n",
      "Masking D:\\fmri\\Analogy\\derivatives\\sub-04\\betas\\sub-04_task-analogy_betas-pymvpa.nii.gz\n",
      "applying operation by label\n",
      "Reading file from: D:\\fmri\\Analogy\\derivatives\\sub-05\\masks\\svm-abmainrel-bin_mask.nii.gz\n",
      "Loading label file from: D:\\fmri\\Analogy\\derivatives\\sub-05\\betas\\sub-05_task-analogy_events-pymvpa.tsv\n",
      "Masking D:\\fmri\\Analogy\\derivatives\\sub-05\\betas\\sub-05_task-analogy_betas-pymvpa.nii.gz\n",
      "applying operation by label\n",
      "Reading file from: D:\\fmri\\Analogy\\derivatives\\sub-06\\masks\\svm-abmainrel-bin_mask.nii.gz\n",
      "Loading label file from: D:\\fmri\\Analogy\\derivatives\\sub-06\\betas\\sub-06_task-analogy_events-pymvpa.tsv\n",
      "Masking D:\\fmri\\Analogy\\derivatives\\sub-06\\betas\\sub-06_task-analogy_betas-pymvpa.nii.gz\n",
      "applying operation by label\n",
      "Reading file from: D:\\fmri\\Analogy\\derivatives\\sub-07\\masks\\svm-abmainrel-bin_mask.nii.gz\n",
      "Loading label file from: D:\\fmri\\Analogy\\derivatives\\sub-07\\betas\\sub-07_task-analogy_events-pymvpa.tsv\n",
      "Masking D:\\fmri\\Analogy\\derivatives\\sub-07\\betas\\sub-07_task-analogy_betas-pymvpa.nii.gz\n",
      "applying operation by label\n",
      "Reading file from: D:\\fmri\\Analogy\\derivatives\\sub-08\\masks\\svm-abmainrel-bin_mask.nii.gz\n",
      "Loading label file from: D:\\fmri\\Analogy\\derivatives\\sub-08\\betas\\sub-08_task-analogy_events-pymvpa.tsv\n",
      "Masking D:\\fmri\\Analogy\\derivatives\\sub-08\\betas\\sub-08_task-analogy_betas-pymvpa.nii.gz\n",
      "applying operation by label\n",
      "Reading file from: D:\\fmri\\Analogy\\derivatives\\sub-09\\masks\\svm-abmainrel-bin_mask.nii.gz\n",
      "Loading label file from: D:\\fmri\\Analogy\\derivatives\\sub-09\\betas\\sub-09_task-analogy_events-pymvpa.tsv\n",
      "Masking D:\\fmri\\Analogy\\derivatives\\sub-09\\betas\\sub-09_task-analogy_betas-pymvpa.nii.gz\n",
      "applying operation by label\n",
      "Reading file from: D:\\fmri\\Analogy\\derivatives\\sub-10\\masks\\svm-abmainrel-bin_mask.nii.gz\n",
      "Loading label file from: D:\\fmri\\Analogy\\derivatives\\sub-10\\betas\\sub-10_task-analogy_events-pymvpa.tsv\n",
      "Masking D:\\fmri\\Analogy\\derivatives\\sub-10\\betas\\sub-10_task-analogy_betas-pymvpa.nii.gz\n",
      "applying operation by label\n",
      "Reading file from: D:\\fmri\\Analogy\\derivatives\\sub-11\\masks\\svm-abmainrel-bin_mask.nii.gz\n",
      "Loading label file from: D:\\fmri\\Analogy\\derivatives\\sub-11\\betas\\sub-11_task-analogy_events-pymvpa.tsv\n",
      "Masking D:\\fmri\\Analogy\\derivatives\\sub-11\\betas\\sub-11_task-analogy_betas-pymvpa.nii.gz\n",
      "applying operation by label\n",
      "Reading file from: D:\\fmri\\Analogy\\derivatives\\sub-12\\masks\\svm-abmainrel-bin_mask.nii.gz\n",
      "Loading label file from: D:\\fmri\\Analogy\\derivatives\\sub-12\\betas\\sub-12_task-analogy_events-pymvpa.tsv\n",
      "Masking D:\\fmri\\Analogy\\derivatives\\sub-12\\betas\\sub-12_task-analogy_betas-pymvpa.nii.gz\n",
      "applying operation by label\n",
      "Reading file from: D:\\fmri\\Analogy\\derivatives\\sub-13\\masks\\svm-abmainrel-bin_mask.nii.gz\n",
      "Loading label file from: D:\\fmri\\Analogy\\derivatives\\sub-13\\betas\\sub-13_task-analogy_events-pymvpa.tsv\n",
      "Masking D:\\fmri\\Analogy\\derivatives\\sub-13\\betas\\sub-13_task-analogy_betas-pymvpa.nii.gz\n",
      "applying operation by label\n",
      "Reading file from: D:\\fmri\\Analogy\\derivatives\\sub-14\\masks\\svm-abmainrel-bin_mask.nii.gz\n",
      "Loading label file from: D:\\fmri\\Analogy\\derivatives\\sub-14\\betas\\sub-14_task-analogy_events-pymvpa.tsv\n",
      "Masking D:\\fmri\\Analogy\\derivatives\\sub-14\\betas\\sub-14_task-analogy_betas-pymvpa.nii.gz\n",
      "applying operation by label\n",
      "Reading file from: D:\\fmri\\Analogy\\derivatives\\sub-15\\masks\\svm-abmainrel-bin_mask.nii.gz\n",
      "Loading label file from: D:\\fmri\\Analogy\\derivatives\\sub-15\\betas\\sub-15_task-analogy_events-pymvpa.tsv\n",
      "Masking D:\\fmri\\Analogy\\derivatives\\sub-15\\betas\\sub-15_task-analogy_betas-pymvpa.nii.gz\n",
      "applying operation by label\n",
      "Reading file from: D:\\fmri\\Analogy\\derivatives\\sub-16\\masks\\svm-abmainrel-bin_mask.nii.gz\n",
      "Loading label file from: D:\\fmri\\Analogy\\derivatives\\sub-16\\betas\\sub-16_task-analogy_events-pymvpa.tsv\n",
      "Masking D:\\fmri\\Analogy\\derivatives\\sub-16\\betas\\sub-16_task-analogy_betas-pymvpa.nii.gz\n",
      "applying operation by label\n"
     ]
    }
   ],
   "source": [
    "maskRes = [runsubject(s, 'svm-abmainrel-bin_mask') \n",
    "           for s in projectSettings['subjects'].keys()]"
   ]
  },
  {
   "cell_type": "code",
   "execution_count": 38,
   "metadata": {},
   "outputs": [
    {
     "data": {
      "text/plain": [
       "(0.37022569444444442, 0.017707256209582221)"
      ]
     },
     "execution_count": 38,
     "metadata": {},
     "output_type": "execute_result"
    }
   ],
   "source": [
    "import numpy as np\n",
    "np.array(maskRes).mean(), np.array(maskRes).std()/np.sqrt(16)"
   ]
  },
  {
   "cell_type": "code",
   "execution_count": 49,
   "metadata": {},
   "outputs": [
    {
     "data": {
      "text/plain": [
       "0.35226664782114209"
      ]
     },
     "execution_count": 49,
     "metadata": {},
     "output_type": "execute_result"
    }
   ],
   "source": [
    "np.array(maskRes).mean() - 2.5*np.array(maskRes).mean(1).std()/np.sqrt(16)"
   ]
  },
  {
   "cell_type": "code",
   "execution_count": 47,
   "metadata": {},
   "outputs": [
    {
     "data": {
      "text/plain": [
       "0.014367237298641871"
      ]
     },
     "execution_count": 47,
     "metadata": {},
     "output_type": "execute_result"
    }
   ],
   "source": [
    "np.array(maskRes).mean(1).std()/np.sqrt(16)*2"
   ]
  },
  {
   "cell_type": "code",
   "execution_count": 48,
   "metadata": {},
   "outputs": [
    {
     "data": {
      "text/plain": [
       "(16,)"
      ]
     },
     "execution_count": 48,
     "metadata": {},
     "output_type": "execute_result"
    }
   ],
   "source": []
  },
  {
   "cell_type": "code",
   "execution_count": null,
   "metadata": {
    "collapsed": true
   },
   "outputs": [],
   "source": []
  }
 ],
 "metadata": {
  "kernelspec": {
   "display_name": "Python 3",
   "language": "python",
   "name": "python3"
  },
  "language_info": {
   "codemirror_mode": {
    "name": "ipython",
    "version": 3
   },
   "file_extension": ".py",
   "mimetype": "text/x-python",
   "name": "python",
   "nbconvert_exporter": "python",
   "pygments_lexer": "ipython3",
   "version": "3.6.1"
  }
 },
 "nbformat": 4,
 "nbformat_minor": 1
}
