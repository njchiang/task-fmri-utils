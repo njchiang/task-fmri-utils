{
 "cells": [
  {
   "cell_type": "markdown",
   "metadata": {
    "collapsed": true
   },
   "source": [
    "# Testing I/O of JSONs \n",
    "\n",
    "for eventually creating config files to drive fMRI analysis"
   ]
  },
  {
   "cell_type": "code",
   "execution_count": 2,
   "metadata": {},
   "outputs": [],
   "source": [
    "import json"
   ]
  },
  {
   "cell_type": "code",
   "execution_count": 3,
   "metadata": {},
   "outputs": [],
   "source": [
    "con = 'cdmainrel'\n",
    "tt='CD'\n",
    "debug = True\n",
    "write = False\n",
    "roi = 'grayMatter'\n",
    "dstype = 'raw'\n",
    "r = 4  # searchlight radius\n",
    "sg_params = [119, 2]"
   ]
  },
  {
   "cell_type": "code",
   "execution_count": 4,
   "metadata": {},
   "outputs": [],
   "source": [
    "analysisConfig = {'con': 'cdmainrel', 'tt': 'CD', 'write': 'False', 'roi': 'grayMatter', 'dstype': 'raw', 'r': 4, 'sg_params': [119, 2]}"
   ]
  },
  {
   "cell_type": "code",
   "execution_count": 11,
   "metadata": {},
   "outputs": [
    {
     "data": {
      "text/plain": [
       "'[{\"roi\": \"grayMatter\", \"sg_params\": [119, 2], \"dstype\": \"raw\", \"tt\": \"CD\", \"write\": \"False\", \"r\": 4, \"con\": \"cdmainrel\"}, {\"roi\": \"grayMatter\", \"sg_params\": [119, 2], \"dstype\": \"raw\", \"tt\": \"CD\", \"write\": \"False\", \"r\": 4, \"con\": \"cdmainrel\"}, {\"roi\": \"grayMatter\", \"sg_params\": [119, 2], \"dstype\": \"raw\", \"tt\": \"CD\", \"write\": \"False\", \"r\": 4, \"con\": \"cdmainrel\"}]'"
      ]
     },
     "execution_count": 11,
     "metadata": {},
     "output_type": "execute_result"
    }
   ],
   "source": [
    "json.dumps([analysisConfig, analysisConfig, analysisConfig])"
   ]
  },
  {
   "cell_type": "code",
   "execution_count": 12,
   "metadata": {},
   "outputs": [],
   "source": [
    "newAnalysisConfig = json.loads(json.dumps([analysisConfig, analysisConfig, analysisConfig]))"
   ]
  },
  {
   "cell_type": "code",
   "execution_count": 13,
   "metadata": {},
   "outputs": [
    {
     "data": {
      "text/plain": [
       "{u'con': u'cdmainrel',\n u'dstype': u'raw',\n u'r': 4,\n u'roi': u'grayMatter',\n u'sg_params': [119, 2],\n u'tt': u'CD',\n u'write': u'False'}"
      ]
     },
     "execution_count": 13,
     "metadata": {},
     "output_type": "execute_result"
    }
   ],
   "source": [
    "newAnalysisConfig[0]"
   ]
  },
  {
   "cell_type": "markdown",
   "metadata": {},
   "source": [
    "Seems like we can just save all the arguments as a dict of dicts... easy!"
   ]
  },
  {
   "cell_type": "markdown",
   "metadata": {},
   "source": [
    "## Necessary fields:\n",
    "\n",
    "1. Analysis parameters\n",
    "\n",
    "2. File paths\n",
    "\n",
    "3. Write paths\n",
    "\n",
    "4. Complicated stuff (like cross validation, etc...) solve with pickle? how to set these up? with Jupyter notebook?"
   ]
  },
  {
   "cell_type": "code",
   "execution_count": 8,
   "metadata": {},
   "outputs": [
    {
     "data": {
      "text/plain": [
       "True"
      ]
     },
     "execution_count": 8,
     "metadata": {},
     "output_type": "execute_result"
    }
   ],
   "source": [
    "type(analysisConfig) == dict"
   ]
  },
  {
   "cell_type": "code",
   "execution_count": null,
   "metadata": {},
   "outputs": [],
   "source": [
    ""
   ]
  }
 ],
 "metadata": {
  "kernelspec": {
   "display_name": "Python 2",
   "language": "python",
   "name": "python2"
  },
  "language_info": {
   "codemirror_mode": {
    "name": "ipython",
    "version": 2.0
   },
   "file_extension": ".py",
   "mimetype": "text/x-python",
   "name": "python",
   "nbconvert_exporter": "python",
   "pygments_lexer": "ipython2",
   "version": "2.7.6"
  }
 },
 "nbformat": 4,
 "nbformat_minor": 0
}