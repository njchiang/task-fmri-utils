{
 "cells": [
  {
   "cell_type": "code",
   "execution_count": 1,
   "metadata": {
    "collapsed": true
   },
   "outputs": [],
   "source": [
    "%matplotlib inline\n",
    "projecttitle = 'Analogy'\n",
    "import sys, os\n",
    "# change this to your path\n",
    "sys.path.append(os.path.join(\"/Users\", \"adam1brownell\", \"Documents\", \"GitHub\", \"task-fmri-utils\"))\n"
   ]
  },
  {
   "cell_type": "code",
   "execution_count": 2,
   "metadata": {
    "collapsed": false
   },
   "outputs": [
    {
     "data": {
      "text/plain": [
       "'C:\\\\Users\\\\adam1brownell'"
      ]
     },
     "execution_count": 2,
     "metadata": {},
     "output_type": "execute_result"
    }
   ],
   "source": [
    "os.getcwd()"
   ]
  },
  {
   "cell_type": "code",
   "execution_count": 3,
   "metadata": {
    "collapsed": false
   },
   "outputs": [],
   "source": [
    "os.chdir('C:\\\\Users\\\\adam1brownell' + '\\Documents\\Dev101\\MontiLab')"
   ]
  },
  {
   "cell_type": "markdown",
   "metadata": {},
   "source": [
    "Load Data"
   ]
  },
  {
   "cell_type": "code",
   "execution_count": 4,
   "metadata": {
    "collapsed": false
   },
   "outputs": [],
   "source": [
    "from fmri_core import analysis as pa\n",
    "from fmri_core import utils as pu"
   ]
  },
  {
   "cell_type": "code",
   "execution_count": 5,
   "metadata": {
    "collapsed": false
   },
   "outputs": [],
   "source": [
    "import scipy.io\n",
    "import numpy as np\n",
    "\n",
    "subj = \"01\" #Within Subject Models\n",
    "\n",
    "#AB Data Load\n",
    "abLoad = scipy.io.loadmat(\"sub-\"+subj+\"_task-analogy_ab-betas-ba10.mat\")\n",
    "abData    = abLoad[\"data\"]      # actual data (numpy array)\n",
    "abAnalogy = abLoad[\"trial_id\"]  # actual analogy they saw\n",
    "abArray   = abLoad[\"main_rel\"]  # main relationship (1,2,3)\n",
    "abRel     = [abArray[0,i][0]for i in range(288)] #I'm cheating and now there are 288 examples\n",
    "abSub     = abLoad[\"sub_rel\"]   # sub relationship (1-9)\n",
    "\n",
    "#CD Data Load\n",
    "cdLoad = scipy.io.loadmat(\"sub-\"+subj+\"_task-analogy_cd-betas-ba10.mat\")\n",
    "cdData    = cdLoad[\"data\"]      # actual data (numpy array)\n",
    "cdAnalogy = cdLoad[\"trial_id\"]  # actual analogy they saw\n",
    "cdArray   = cdLoad[\"main_rel\"]  # main relationship (1,2,3)\n",
    "cdRel     = [cdArray[0,i][0]for i in range(288)] #I'm cheating and now there are 288 examples\n",
    "cdSub     = cdLoad[\"sub_rel\"]   # sub relationship (1-9)\n",
    "\n",
    "\n",
    "\n",
    "#for i in data:\n",
    "#\tif '__' not in i and 'readme' not in i:\n",
    "#\t\tnp.savetxt(\"sub14_ab\"+i+\".csv\",data[i],delimiter=',')"
   ]
  },
  {
   "cell_type": "markdown",
   "metadata": {},
   "source": [
    "Scale + Ridge Regression"
   ]
  },
  {
   "cell_type": "code",
   "execution_count": 6,
   "metadata": {
    "collapsed": false
   },
   "outputs": [
    {
     "data": {
      "text/html": [
       "<div>\n",
       "<style>\n",
       "    .dataframe thead tr:only-child th {\n",
       "        text-align: right;\n",
       "    }\n",
       "\n",
       "    .dataframe thead th {\n",
       "        text-align: left;\n",
       "    }\n",
       "\n",
       "    .dataframe tbody tr th {\n",
       "        vertical-align: top;\n",
       "    }\n",
       "</style>\n",
       "<table border=\"1\" class=\"dataframe\">\n",
       "  <thead>\n",
       "    <tr style=\"text-align: right;\">\n",
       "      <th></th>\n",
       "      <th>Small Alpha</th>\n",
       "      <th>Medium Alpha</th>\n",
       "      <th>Large Alpha</th>\n",
       "    </tr>\n",
       "  </thead>\n",
       "  <tbody>\n",
       "    <tr>\n",
       "      <th>0</th>\n",
       "      <td>-0.004345</td>\n",
       "      <td>-0.004345</td>\n",
       "      <td>-0.004351</td>\n",
       "    </tr>\n",
       "    <tr>\n",
       "      <th>1</th>\n",
       "      <td>-0.004591</td>\n",
       "      <td>-0.004589</td>\n",
       "      <td>-0.004572</td>\n",
       "    </tr>\n",
       "    <tr>\n",
       "      <th>2</th>\n",
       "      <td>0.012339</td>\n",
       "      <td>0.012302</td>\n",
       "      <td>0.011950</td>\n",
       "    </tr>\n",
       "    <tr>\n",
       "      <th>3</th>\n",
       "      <td>0.005145</td>\n",
       "      <td>0.005133</td>\n",
       "      <td>0.005017</td>\n",
       "    </tr>\n",
       "    <tr>\n",
       "      <th>4</th>\n",
       "      <td>0.004154</td>\n",
       "      <td>0.004154</td>\n",
       "      <td>0.004155</td>\n",
       "    </tr>\n",
       "    <tr>\n",
       "      <th>5</th>\n",
       "      <td>0.008317</td>\n",
       "      <td>0.008304</td>\n",
       "      <td>0.008185</td>\n",
       "    </tr>\n",
       "    <tr>\n",
       "      <th>6</th>\n",
       "      <td>0.001916</td>\n",
       "      <td>0.001919</td>\n",
       "      <td>0.001946</td>\n",
       "    </tr>\n",
       "    <tr>\n",
       "      <th>7</th>\n",
       "      <td>0.001244</td>\n",
       "      <td>0.001256</td>\n",
       "      <td>0.001367</td>\n",
       "    </tr>\n",
       "    <tr>\n",
       "      <th>8</th>\n",
       "      <td>-0.012271</td>\n",
       "      <td>-0.012249</td>\n",
       "      <td>-0.012034</td>\n",
       "    </tr>\n",
       "    <tr>\n",
       "      <th>9</th>\n",
       "      <td>-0.009887</td>\n",
       "      <td>-0.009864</td>\n",
       "      <td>-0.009642</td>\n",
       "    </tr>\n",
       "    <tr>\n",
       "      <th>10</th>\n",
       "      <td>0.008617</td>\n",
       "      <td>0.008604</td>\n",
       "      <td>0.008475</td>\n",
       "    </tr>\n",
       "    <tr>\n",
       "      <th>11</th>\n",
       "      <td>0.004666</td>\n",
       "      <td>0.004662</td>\n",
       "      <td>0.004621</td>\n",
       "    </tr>\n",
       "    <tr>\n",
       "      <th>12</th>\n",
       "      <td>-0.002460</td>\n",
       "      <td>-0.002446</td>\n",
       "      <td>-0.002310</td>\n",
       "    </tr>\n",
       "    <tr>\n",
       "      <th>13</th>\n",
       "      <td>-0.004280</td>\n",
       "      <td>-0.004270</td>\n",
       "      <td>-0.004175</td>\n",
       "    </tr>\n",
       "    <tr>\n",
       "      <th>14</th>\n",
       "      <td>-0.000858</td>\n",
       "      <td>-0.000849</td>\n",
       "      <td>-0.000768</td>\n",
       "    </tr>\n",
       "    <tr>\n",
       "      <th>15</th>\n",
       "      <td>-0.009298</td>\n",
       "      <td>-0.009276</td>\n",
       "      <td>-0.009061</td>\n",
       "    </tr>\n",
       "    <tr>\n",
       "      <th>16</th>\n",
       "      <td>0.001059</td>\n",
       "      <td>0.001057</td>\n",
       "      <td>0.001039</td>\n",
       "    </tr>\n",
       "    <tr>\n",
       "      <th>17</th>\n",
       "      <td>-0.000517</td>\n",
       "      <td>-0.000530</td>\n",
       "      <td>-0.000649</td>\n",
       "    </tr>\n",
       "    <tr>\n",
       "      <th>18</th>\n",
       "      <td>0.006874</td>\n",
       "      <td>0.006833</td>\n",
       "      <td>0.006453</td>\n",
       "    </tr>\n",
       "    <tr>\n",
       "      <th>19</th>\n",
       "      <td>0.006805</td>\n",
       "      <td>0.006787</td>\n",
       "      <td>0.006608</td>\n",
       "    </tr>\n",
       "    <tr>\n",
       "      <th>20</th>\n",
       "      <td>0.000000</td>\n",
       "      <td>0.000000</td>\n",
       "      <td>0.000000</td>\n",
       "    </tr>\n",
       "    <tr>\n",
       "      <th>21</th>\n",
       "      <td>-0.002525</td>\n",
       "      <td>-0.002500</td>\n",
       "      <td>-0.002264</td>\n",
       "    </tr>\n",
       "    <tr>\n",
       "      <th>22</th>\n",
       "      <td>-0.003665</td>\n",
       "      <td>-0.003649</td>\n",
       "      <td>-0.003487</td>\n",
       "    </tr>\n",
       "    <tr>\n",
       "      <th>23</th>\n",
       "      <td>0.000000</td>\n",
       "      <td>0.000000</td>\n",
       "      <td>0.000000</td>\n",
       "    </tr>\n",
       "    <tr>\n",
       "      <th>24</th>\n",
       "      <td>0.011076</td>\n",
       "      <td>0.011055</td>\n",
       "      <td>0.010847</td>\n",
       "    </tr>\n",
       "    <tr>\n",
       "      <th>25</th>\n",
       "      <td>0.003756</td>\n",
       "      <td>0.003754</td>\n",
       "      <td>0.003730</td>\n",
       "    </tr>\n",
       "    <tr>\n",
       "      <th>26</th>\n",
       "      <td>0.002098</td>\n",
       "      <td>0.002080</td>\n",
       "      <td>0.001913</td>\n",
       "    </tr>\n",
       "    <tr>\n",
       "      <th>27</th>\n",
       "      <td>0.007004</td>\n",
       "      <td>0.006990</td>\n",
       "      <td>0.006847</td>\n",
       "    </tr>\n",
       "    <tr>\n",
       "      <th>28</th>\n",
       "      <td>0.008330</td>\n",
       "      <td>0.008319</td>\n",
       "      <td>0.008215</td>\n",
       "    </tr>\n",
       "    <tr>\n",
       "      <th>29</th>\n",
       "      <td>-0.002653</td>\n",
       "      <td>-0.002652</td>\n",
       "      <td>-0.002640</td>\n",
       "    </tr>\n",
       "    <tr>\n",
       "      <th>...</th>\n",
       "      <td>...</td>\n",
       "      <td>...</td>\n",
       "      <td>...</td>\n",
       "    </tr>\n",
       "    <tr>\n",
       "      <th>7521</th>\n",
       "      <td>0.000000</td>\n",
       "      <td>0.000000</td>\n",
       "      <td>0.000000</td>\n",
       "    </tr>\n",
       "    <tr>\n",
       "      <th>7522</th>\n",
       "      <td>-0.003394</td>\n",
       "      <td>-0.003395</td>\n",
       "      <td>-0.003403</td>\n",
       "    </tr>\n",
       "    <tr>\n",
       "      <th>7523</th>\n",
       "      <td>-0.006014</td>\n",
       "      <td>-0.006002</td>\n",
       "      <td>-0.005884</td>\n",
       "    </tr>\n",
       "    <tr>\n",
       "      <th>7524</th>\n",
       "      <td>0.000000</td>\n",
       "      <td>0.000000</td>\n",
       "      <td>0.000000</td>\n",
       "    </tr>\n",
       "    <tr>\n",
       "      <th>7525</th>\n",
       "      <td>0.002935</td>\n",
       "      <td>0.002923</td>\n",
       "      <td>0.002802</td>\n",
       "    </tr>\n",
       "    <tr>\n",
       "      <th>7526</th>\n",
       "      <td>0.002489</td>\n",
       "      <td>0.002486</td>\n",
       "      <td>0.002454</td>\n",
       "    </tr>\n",
       "    <tr>\n",
       "      <th>7527</th>\n",
       "      <td>-0.002794</td>\n",
       "      <td>-0.002781</td>\n",
       "      <td>-0.002657</td>\n",
       "    </tr>\n",
       "    <tr>\n",
       "      <th>7528</th>\n",
       "      <td>0.002507</td>\n",
       "      <td>0.002504</td>\n",
       "      <td>0.002480</td>\n",
       "    </tr>\n",
       "    <tr>\n",
       "      <th>7529</th>\n",
       "      <td>0.003987</td>\n",
       "      <td>0.003973</td>\n",
       "      <td>0.003845</td>\n",
       "    </tr>\n",
       "    <tr>\n",
       "      <th>7530</th>\n",
       "      <td>-0.005353</td>\n",
       "      <td>-0.005331</td>\n",
       "      <td>-0.005124</td>\n",
       "    </tr>\n",
       "    <tr>\n",
       "      <th>7531</th>\n",
       "      <td>0.015240</td>\n",
       "      <td>0.015200</td>\n",
       "      <td>0.014824</td>\n",
       "    </tr>\n",
       "    <tr>\n",
       "      <th>7532</th>\n",
       "      <td>0.000000</td>\n",
       "      <td>0.000000</td>\n",
       "      <td>0.000000</td>\n",
       "    </tr>\n",
       "    <tr>\n",
       "      <th>7533</th>\n",
       "      <td>0.003551</td>\n",
       "      <td>0.003540</td>\n",
       "      <td>0.003433</td>\n",
       "    </tr>\n",
       "    <tr>\n",
       "      <th>7534</th>\n",
       "      <td>0.000000</td>\n",
       "      <td>0.000000</td>\n",
       "      <td>0.000000</td>\n",
       "    </tr>\n",
       "    <tr>\n",
       "      <th>7535</th>\n",
       "      <td>0.005502</td>\n",
       "      <td>0.005499</td>\n",
       "      <td>0.005466</td>\n",
       "    </tr>\n",
       "    <tr>\n",
       "      <th>7536</th>\n",
       "      <td>-0.001817</td>\n",
       "      <td>-0.001802</td>\n",
       "      <td>-0.001656</td>\n",
       "    </tr>\n",
       "    <tr>\n",
       "      <th>7537</th>\n",
       "      <td>-0.002859</td>\n",
       "      <td>-0.002857</td>\n",
       "      <td>-0.002838</td>\n",
       "    </tr>\n",
       "    <tr>\n",
       "      <th>7538</th>\n",
       "      <td>-0.008049</td>\n",
       "      <td>-0.008036</td>\n",
       "      <td>-0.007900</td>\n",
       "    </tr>\n",
       "    <tr>\n",
       "      <th>7539</th>\n",
       "      <td>0.004008</td>\n",
       "      <td>0.003992</td>\n",
       "      <td>0.003841</td>\n",
       "    </tr>\n",
       "    <tr>\n",
       "      <th>7540</th>\n",
       "      <td>-0.000743</td>\n",
       "      <td>-0.000749</td>\n",
       "      <td>-0.000797</td>\n",
       "    </tr>\n",
       "    <tr>\n",
       "      <th>7541</th>\n",
       "      <td>0.010649</td>\n",
       "      <td>0.010630</td>\n",
       "      <td>0.010452</td>\n",
       "    </tr>\n",
       "    <tr>\n",
       "      <th>7542</th>\n",
       "      <td>0.000000</td>\n",
       "      <td>0.000000</td>\n",
       "      <td>0.000000</td>\n",
       "    </tr>\n",
       "    <tr>\n",
       "      <th>7543</th>\n",
       "      <td>0.000000</td>\n",
       "      <td>0.000000</td>\n",
       "      <td>0.000000</td>\n",
       "    </tr>\n",
       "    <tr>\n",
       "      <th>7544</th>\n",
       "      <td>0.000000</td>\n",
       "      <td>0.000000</td>\n",
       "      <td>0.000000</td>\n",
       "    </tr>\n",
       "    <tr>\n",
       "      <th>7545</th>\n",
       "      <td>0.000000</td>\n",
       "      <td>0.000000</td>\n",
       "      <td>0.000000</td>\n",
       "    </tr>\n",
       "    <tr>\n",
       "      <th>7546</th>\n",
       "      <td>0.000000</td>\n",
       "      <td>0.000000</td>\n",
       "      <td>0.000000</td>\n",
       "    </tr>\n",
       "    <tr>\n",
       "      <th>7547</th>\n",
       "      <td>0.000000</td>\n",
       "      <td>0.000000</td>\n",
       "      <td>0.000000</td>\n",
       "    </tr>\n",
       "    <tr>\n",
       "      <th>7548</th>\n",
       "      <td>0.000000</td>\n",
       "      <td>0.000000</td>\n",
       "      <td>0.000000</td>\n",
       "    </tr>\n",
       "    <tr>\n",
       "      <th>7549</th>\n",
       "      <td>0.000000</td>\n",
       "      <td>0.000000</td>\n",
       "      <td>0.000000</td>\n",
       "    </tr>\n",
       "    <tr>\n",
       "      <th>7550</th>\n",
       "      <td>0.000000</td>\n",
       "      <td>0.000000</td>\n",
       "      <td>0.000000</td>\n",
       "    </tr>\n",
       "  </tbody>\n",
       "</table>\n",
       "<p>7551 rows × 3 columns</p>\n",
       "</div>"
      ],
      "text/plain": [
       "      Small Alpha  Medium Alpha  Large Alpha\n",
       "0       -0.004345     -0.004345    -0.004351\n",
       "1       -0.004591     -0.004589    -0.004572\n",
       "2        0.012339      0.012302     0.011950\n",
       "3        0.005145      0.005133     0.005017\n",
       "4        0.004154      0.004154     0.004155\n",
       "5        0.008317      0.008304     0.008185\n",
       "6        0.001916      0.001919     0.001946\n",
       "7        0.001244      0.001256     0.001367\n",
       "8       -0.012271     -0.012249    -0.012034\n",
       "9       -0.009887     -0.009864    -0.009642\n",
       "10       0.008617      0.008604     0.008475\n",
       "11       0.004666      0.004662     0.004621\n",
       "12      -0.002460     -0.002446    -0.002310\n",
       "13      -0.004280     -0.004270    -0.004175\n",
       "14      -0.000858     -0.000849    -0.000768\n",
       "15      -0.009298     -0.009276    -0.009061\n",
       "16       0.001059      0.001057     0.001039\n",
       "17      -0.000517     -0.000530    -0.000649\n",
       "18       0.006874      0.006833     0.006453\n",
       "19       0.006805      0.006787     0.006608\n",
       "20       0.000000      0.000000     0.000000\n",
       "21      -0.002525     -0.002500    -0.002264\n",
       "22      -0.003665     -0.003649    -0.003487\n",
       "23       0.000000      0.000000     0.000000\n",
       "24       0.011076      0.011055     0.010847\n",
       "25       0.003756      0.003754     0.003730\n",
       "26       0.002098      0.002080     0.001913\n",
       "27       0.007004      0.006990     0.006847\n",
       "28       0.008330      0.008319     0.008215\n",
       "29      -0.002653     -0.002652    -0.002640\n",
       "...           ...           ...          ...\n",
       "7521     0.000000      0.000000     0.000000\n",
       "7522    -0.003394     -0.003395    -0.003403\n",
       "7523    -0.006014     -0.006002    -0.005884\n",
       "7524     0.000000      0.000000     0.000000\n",
       "7525     0.002935      0.002923     0.002802\n",
       "7526     0.002489      0.002486     0.002454\n",
       "7527    -0.002794     -0.002781    -0.002657\n",
       "7528     0.002507      0.002504     0.002480\n",
       "7529     0.003987      0.003973     0.003845\n",
       "7530    -0.005353     -0.005331    -0.005124\n",
       "7531     0.015240      0.015200     0.014824\n",
       "7532     0.000000      0.000000     0.000000\n",
       "7533     0.003551      0.003540     0.003433\n",
       "7534     0.000000      0.000000     0.000000\n",
       "7535     0.005502      0.005499     0.005466\n",
       "7536    -0.001817     -0.001802    -0.001656\n",
       "7537    -0.002859     -0.002857    -0.002838\n",
       "7538    -0.008049     -0.008036    -0.007900\n",
       "7539     0.004008      0.003992     0.003841\n",
       "7540    -0.000743     -0.000749    -0.000797\n",
       "7541     0.010649      0.010630     0.010452\n",
       "7542     0.000000      0.000000     0.000000\n",
       "7543     0.000000      0.000000     0.000000\n",
       "7544     0.000000      0.000000     0.000000\n",
       "7545     0.000000      0.000000     0.000000\n",
       "7546     0.000000      0.000000     0.000000\n",
       "7547     0.000000      0.000000     0.000000\n",
       "7548     0.000000      0.000000     0.000000\n",
       "7549     0.000000      0.000000     0.000000\n",
       "7550     0.000000      0.000000     0.000000\n",
       "\n",
       "[7551 rows x 3 columns]"
      ]
     },
     "execution_count": 6,
     "metadata": {},
     "output_type": "execute_result"
    }
   ],
   "source": [
    "## PREPROCCESSING ##\n",
    "from sklearn import preprocessing\n",
    "from sklearn.linear_model import Ridge\n",
    "\n",
    "abDataScale = preprocessing.scale(abData) #Scaling before Ridge so that independent variables are not penalized differently\n",
    "\n",
    "ridgeSmall = Ridge(alpha = 0.1)\n",
    "ridgeMed   = Ridge(alpha = 1.0)\n",
    "ridgeLarge = Ridge(alpha = 10.0)\n",
    "\n",
    "ridgeSmall.fit(abDataScale,abRel)\n",
    "ridgeMed.fit(abDataScale,abRel)\n",
    "ridgeLarge.fit(abDataScale,abRel)\n",
    "\n",
    "## Data Viz ##\n",
    "import pandas as pd\n",
    "\n",
    "small = pd.Series(ridgeSmall.coef_.reshape(7551,))\n",
    "med = pd.Series(ridgeMed.coef_.reshape(7551,))\n",
    "large = pd.Series(ridgeLarge.coef_.reshape(7551,))\n",
    "\n",
    "alphaChart = pd.DataFrame(pd.concat([small,med, large], axis = 1))\n",
    "alphaChart.columns = [\"Small Alpha\",\"Medium Alpha\", \"Large Alpha\"]\n",
    "alphaChart"
   ]
  },
  {
   "cell_type": "code",
   "execution_count": 23,
   "metadata": {
    "collapsed": false
   },
   "outputs": [
    {
     "ename": "TypeError",
     "evalue": "ufunc 'subtract' did not contain a loop with signature matching types dtype('<U32') dtype('<U32') dtype('<U32')",
     "output_type": "error",
     "traceback": [
      "\u001b[1;31m---------------------------------------------------------------------------\u001b[0m",
      "\u001b[1;31mTypeError\u001b[0m                                 Traceback (most recent call last)",
      "\u001b[1;32m<ipython-input-23-7a94bad090f7>\u001b[0m in \u001b[0;36m<module>\u001b[1;34m()\u001b[0m\n\u001b[1;32m----> 1\u001b[1;33m \u001b[0mridgeLarge\u001b[0m\u001b[1;33m.\u001b[0m\u001b[0mscore\u001b[0m\u001b[1;33m(\u001b[0m\u001b[0mnp\u001b[0m\u001b[1;33m.\u001b[0m\u001b[0marray\u001b[0m\u001b[1;33m(\u001b[0m\u001b[0mabDataScale\u001b[0m\u001b[1;33m)\u001b[0m\u001b[1;33m,\u001b[0m \u001b[0mnp\u001b[0m\u001b[1;33m.\u001b[0m\u001b[0marray\u001b[0m\u001b[1;33m(\u001b[0m\u001b[0mabRel\u001b[0m\u001b[1;33m)\u001b[0m\u001b[1;33m)\u001b[0m\u001b[1;33m\u001b[0m\u001b[0m\n\u001b[0m",
      "\u001b[1;32m~\\Anaconda2\\envs\\py36\\lib\\site-packages\\sklearn\\base.py\u001b[0m in \u001b[0;36mscore\u001b[1;34m(self, X, y, sample_weight)\u001b[0m\n\u001b[0;32m    386\u001b[0m         \u001b[1;32mfrom\u001b[0m \u001b[1;33m.\u001b[0m\u001b[0mmetrics\u001b[0m \u001b[1;32mimport\u001b[0m \u001b[0mr2_score\u001b[0m\u001b[1;33m\u001b[0m\u001b[0m\n\u001b[0;32m    387\u001b[0m         return r2_score(y, self.predict(X), sample_weight=sample_weight,\n\u001b[1;32m--> 388\u001b[1;33m                         multioutput='variance_weighted')\n\u001b[0m\u001b[0;32m    389\u001b[0m \u001b[1;33m\u001b[0m\u001b[0m\n\u001b[0;32m    390\u001b[0m \u001b[1;33m\u001b[0m\u001b[0m\n",
      "\u001b[1;32m~\\Anaconda2\\envs\\py36\\lib\\site-packages\\sklearn\\metrics\\regression.py\u001b[0m in \u001b[0;36mr2_score\u001b[1;34m(y_true, y_pred, sample_weight, multioutput)\u001b[0m\n\u001b[0;32m    536\u001b[0m         \u001b[0mweight\u001b[0m \u001b[1;33m=\u001b[0m \u001b[1;36m1.\u001b[0m\u001b[1;33m\u001b[0m\u001b[0m\n\u001b[0;32m    537\u001b[0m \u001b[1;33m\u001b[0m\u001b[0m\n\u001b[1;32m--> 538\u001b[1;33m     numerator = (weight * (y_true - y_pred) ** 2).sum(axis=0,\n\u001b[0m\u001b[0;32m    539\u001b[0m                                                       dtype=np.float64)\n\u001b[0;32m    540\u001b[0m     denominator = (weight * (y_true - np.average(\n",
      "\u001b[1;31mTypeError\u001b[0m: ufunc 'subtract' did not contain a loop with signature matching types dtype('<U32') dtype('<U32') dtype('<U32')"
     ]
    }
   ],
   "source": [
    "ridgeLarge.score(np.array(abDataScale), np.array(abRel))"
   ]
  },
  {
   "cell_type": "code",
   "execution_count": 22,
   "metadata": {
    "collapsed": false
   },
   "outputs": [
    {
     "data": {
      "text/plain": [
       "array([[ 0.68664034, -1.29828671,  0.63542437, ...,  0.        ,\n",
       "         0.        ,  0.        ],\n",
       "       [ 0.38643967,  0.09583183, -0.85752847, ...,  0.        ,\n",
       "         0.        ,  0.        ],\n",
       "       [ 0.66296341, -0.05939487,  0.8548012 , ...,  0.        ,\n",
       "         0.        ,  0.        ],\n",
       "       ..., \n",
       "       [-0.83910196, -2.06478721, -0.83330029, ...,  0.        ,\n",
       "         0.        ,  0.        ],\n",
       "       [-0.8114011 ,  0.98262876, -0.08454345, ...,  0.        ,\n",
       "         0.        ,  0.        ],\n",
       "       [-0.48874245,  0.2754206 , -1.38495004, ...,  0.        ,\n",
       "         0.        ,  0.        ]])"
      ]
     },
     "execution_count": 22,
     "metadata": {},
     "output_type": "execute_result"
    }
   ],
   "source": []
  },
  {
   "cell_type": "code",
   "execution_count": 8,
   "metadata": {
    "collapsed": false
   },
   "outputs": [
    {
     "data": {
      "text/plain": [
       "PCA(copy=True, iterated_power='auto', n_components=None, random_state=None,\n",
       "  svd_solver='auto', tol=0.0, whiten=False)"
      ]
     },
     "execution_count": 8,
     "metadata": {},
     "output_type": "execute_result"
    }
   ],
   "source": [
    "from sklearn.decomposition import PCA\n",
    "\n",
    "pca = PCA()\n",
    "pca.fit(abData)"
   ]
  },
  {
   "cell_type": "code",
   "execution_count": 20,
   "metadata": {
    "collapsed": false
   },
   "outputs": [
    {
     "data": {
      "image/png": "[encoded data removed]",
      "text/plain": [
       "<matplotlib.figure.Figure at 0x20183c1a198>"
      ]
     },
     "metadata": {},
     "output_type": "display_data"
    },
    {
     "name": "stdout",
     "output_type": "stream",
     "text": [
      "Vertical Line at 20 PrComps\n"
     ]
    }
   ],
   "source": [
    "var = 0\n",
    "varExp = []\n",
    "for i in pca.explained_variance_ratio_:\n",
    "    var = var + i\n",
    "    varExp.append(var)\n",
    "\n",
    "import matplotlib.pyplot as plt\n",
    "plt.plot(range(len(pca.explained_variance_ratio_)), varExp)\n",
    "plt.plot([20,20], [0,1])\n",
    "plt.title(\"AB Data Scree Plot\")\n",
    "plt.show()\n",
    "print(\"Vertical Line at 20 PrComps\")"
   ]
  },
  {
   "cell_type": "code",
   "execution_count": 29,
   "metadata": {
    "collapsed": false
   },
   "outputs": [],
   "source": [
    "pca20 = PCA(n_components = 20)\n",
    "pcaData = pca20.fit_transform(abData)"
   ]
  },
  {
   "cell_type": "code",
   "execution_count": 30,
   "metadata": {
    "collapsed": false
   },
   "outputs": [
    {
     "data": {
      "text/plain": [
       "(288, 20)"
      ]
     },
     "execution_count": 30,
     "metadata": {},
     "output_type": "execute_result"
    }
   ],
   "source": [
    "pcaData.shape"
   ]
  },
  {
   "cell_type": "code",
   "execution_count": 34,
   "metadata": {
    "collapsed": false
   },
   "outputs": [
    {
     "name": "stdout",
     "output_type": "stream",
     "text": [
      "\n",
      "Training Score\n",
      "[[94  0  1]\n",
      " [ 2 92  0]\n",
      " [ 3  1 86]]\n",
      "Accuracy:  0.974910394265\n",
      "\n",
      "AB Test Score\n",
      "[[0 0 0]\n",
      " [0 2 0]\n",
      " [1 3 2]]\n",
      "Accuracy:  0.5\n",
      "\n",
      "CD Test Score\n",
      "[[35 30 31]\n",
      " [32 29 35]\n",
      " [27 38 31]]\n",
      "Accuracy:  0.329861111111\n"
     ]
    }
   ],
   "source": [
    "from sklearn.ensemble import RandomForestClassifier\n",
    "rf = RandomForestClassifier(n_estimators = 10)\n",
    "rf.fit(pcaData[1:280,],abRel[1:280])\n",
    "\n",
    "#Score Training Acc, AB Testing Acc and CD Testing Acc\n",
    "from sklearn.metrics import confusion_matrix\n",
    "\n",
    "print(\"\\nTraining Score\")\n",
    "abTest = confusion_matrix(y_true = abRel[1:280],y_pred=rf.predict(pcaData[1:280,]))\n",
    "print(abTest)\n",
    "print(\"Accuracy: \", (abTest[0,0]+abTest[1,1]+abTest[2,2])/len(abRel[1:280]))\n",
    "\n",
    "print(\"\\nAB Test Score\")\n",
    "abTest = confusion_matrix(y_true = abRel[280:],y_pred=rf.predict(pcaData[280:,]))\n",
    "print(abTest)\n",
    "print(\"Accuracy: \", (abTest[0,0]+abTest[1,1]+abTest[2,2])/len(abRel[280:]))\n",
    "\n",
    "cdDataScale = pca20.fit_transform(cdData)\n",
    "print(\"\\nCD Test Score\")\n",
    "abTest = confusion_matrix(y_true = cdRel,y_pred=rf.predict(cdDataScale))\n",
    "print(abTest)\n",
    "print(\"Accuracy: \", (abTest[0,0]+abTest[1,1]+abTest[2,2])/len(cdRel))"
   ]
  },
  {
   "cell_type": "code",
   "execution_count": null,
   "metadata": {
    "collapsed": true
   },
   "outputs": [],
   "source": []
  },
  {
   "cell_type": "code",
   "execution_count": null,
   "metadata": {
    "collapsed": true
   },
   "outputs": [],
   "source": []
  },
  {
   "cell_type": "code",
   "execution_count": null,
   "metadata": {
    "collapsed": true
   },
   "outputs": [],
   "source": []
  },
  {
   "cell_type": "code",
   "execution_count": null,
   "metadata": {
    "collapsed": true
   },
   "outputs": [],
   "source": []
  },
  {
   "cell_type": "code",
   "execution_count": null,
   "metadata": {
    "collapsed": true
   },
   "outputs": [],
   "source": []
  },
  {
   "cell_type": "markdown",
   "metadata": {},
   "source": [
    "Random Forest - Scaled"
   ]
  },
  {
   "cell_type": "code",
   "execution_count": 9,
   "metadata": {
    "collapsed": false
   },
   "outputs": [
    {
     "data": {
      "text/plain": [
       "RandomForestClassifier(bootstrap=True, class_weight=None, criterion='gini',\n",
       "            max_depth=None, max_features='auto', max_leaf_nodes=None,\n",
       "            min_impurity_decrease=0.0, min_impurity_split=None,\n",
       "            min_samples_leaf=1, min_samples_split=2,\n",
       "            min_weight_fraction_leaf=0.0, n_estimators=50, n_jobs=1,\n",
       "            oob_score=False, random_state=None, verbose=0,\n",
       "            warm_start=False)"
      ]
     },
     "execution_count": 9,
     "metadata": {},
     "output_type": "execute_result"
    }
   ],
   "source": [
    "from sklearn.ensemble import RandomForestClassifier\n",
    "rf = RandomForestClassifier(n_estimators = 50)\n",
    "rf.fit(abDataScale[1:280,],abRel[1:280])\n"
   ]
  },
  {
   "cell_type": "code",
   "execution_count": 10,
   "metadata": {
    "collapsed": false
   },
   "outputs": [
    {
     "name": "stdout",
     "output_type": "stream",
     "text": [
      "\n",
      "Training Score\n",
      "[[95  0  0]\n",
      " [ 0 94  0]\n",
      " [ 0  0 90]]\n",
      "Accuracy:  1.0\n",
      "\n",
      "AB Test Score\n",
      "[[0 0 0]\n",
      " [0 2 0]\n",
      " [1 1 4]]\n",
      "Accuracy:  0.75\n",
      "\n",
      "CD Test Score\n",
      "[[40 30 26]\n",
      " [31 34 31]\n",
      " [32 33 31]]\n",
      "Accuracy:  0.364583333333\n"
     ]
    }
   ],
   "source": [
    "#Score Training Acc, AB Testing Acc and CD Testing Acc\n",
    "from sklearn.metrics import confusion_matrix\n",
    "\n",
    "print(\"\\nTraining Score\")\n",
    "abTest = confusion_matrix(y_true = abRel[1:280],y_pred=rf.predict(abDataScale[1:280,]))\n",
    "print(abTest)\n",
    "print(\"Accuracy: \", (abTest[0,0]+abTest[1,1]+abTest[2,2])/len(abRel[1:280]))\n",
    "\n",
    "print(\"\\nAB Test Score\")\n",
    "abTest = confusion_matrix(y_true = abRel[280:],y_pred=rf.predict(abDataScale[280:,]))\n",
    "print(abTest)\n",
    "print(\"Accuracy: \", (abTest[0,0]+abTest[1,1]+abTest[2,2])/len(abRel[280:]))\n",
    "\n",
    "cdDataScale = preprocessing.scale(cdData)\n",
    "print(\"\\nCD Test Score\")\n",
    "abTest = confusion_matrix(y_true = cdRel,y_pred=rf.predict(cdDataScale))\n",
    "print(abTest)\n",
    "print(\"Accuracy: \", (abTest[0,0]+abTest[1,1]+abTest[2,2])/len(cdRel))"
   ]
  },
  {
   "cell_type": "markdown",
   "metadata": {},
   "source": [
    "Random Forest - Unscaled"
   ]
  },
  {
   "cell_type": "code",
   "execution_count": 79,
   "metadata": {
    "collapsed": false
   },
   "outputs": [
    {
     "name": "stdout",
     "output_type": "stream",
     "text": [
      "\n",
      "Training Score\n",
      "[[95  0  0]\n",
      " [ 0 94  0]\n",
      " [ 0  0 90]]\n",
      "Accuracy:  1.0\n",
      "\n",
      "AB Test Score\n",
      "[[0 0 0]\n",
      " [0 2 0]\n",
      " [1 1 4]]\n",
      "Accuracy:  0.75\n",
      "\n",
      "CD Test Score\n",
      "[[39 28 29]\n",
      " [30 37 29]\n",
      " [28 36 32]]\n",
      "Accuracy:  0.375\n"
     ]
    }
   ],
   "source": [
    "## Unscaled Data ##\n",
    "rf = RandomForestClassifier(n_estimators = 500)\n",
    "rf.fit(abData[1:280,],abRel[1:280])\n",
    "\n",
    "print(\"\\nTraining Score\")\n",
    "abTest = confusion_matrix(y_true = abRel[1:280],y_pred=rf.predict(abData[1:280,]))\n",
    "print(abTest)\n",
    "print(\"Accuracy: \", (abTest[0,0]+abTest[1,1]+abTest[2,2])/len(abRel[1:280]))\n",
    "\n",
    "print(\"\\nAB Test Score\")\n",
    "abTest = confusion_matrix(y_true = abRel[280:],y_pred=rf.predict(abData[280:,]))\n",
    "print(abTest)\n",
    "print(\"Accuracy: \", (abTest[0,0]+abTest[1,1]+abTest[2,2])/len(abRel[280:]))\n",
    "\n",
    "print(\"\\nCD Test Score\")\n",
    "abTest = confusion_matrix(y_true = cdRel,y_pred=rf.predict(cdData))\n",
    "print(abTest)\n",
    "print(\"Accuracy: \", (abTest[0,0]+abTest[1,1]+abTest[2,2])/len(cdRel))"
   ]
  },
  {
   "cell_type": "raw",
   "metadata": {},
   "source": [
    "Chi^2 Feature Selection "
   ]
  },
  {
   "cell_type": "code",
   "execution_count": 26,
   "metadata": {
    "collapsed": false
   },
   "outputs": [],
   "source": [
    "from sklearn.feature_selection import chi2\n",
    "abDataScalePos = abDataScale - np.amin(abDataScale) #Minus bc its a negative number\n",
    "\n",
    "stat, pval = chi2(abDataScalePos,abRel)"
   ]
  },
  {
   "cell_type": "code",
   "execution_count": 32,
   "metadata": {
    "collapsed": false
   },
   "outputs": [
    {
     "name": "stdout",
     "output_type": "stream",
     "text": [
      "Smallest P Val: 0.295052070186\n"
     ]
    }
   ],
   "source": [
    "chiChart = pd.DataFrame(data = pd.concat([pd.Series(stat),pd.Series(pval)], axis = 1))\n",
    "chiChart.columns = [\"Chi2 Val\",\"P Val\"]\n",
    "print(\"Smallest P Val:\", np.amin(pval))\n",
    "chiChart"
   ]
  },
  {
   "cell_type": "code",
   "execution_count": 34,
   "metadata": {
    "collapsed": false
   },
   "outputs": [
    {
     "name": "stderr",
     "output_type": "stream",
     "text": [
      "C:\\Users\\adam1brownell\\Anaconda2\\envs\\py36\\lib\\site-packages\\sklearn\\discriminant_analysis.py:388: UserWarning: Variables are collinear.\n",
      "  warnings.warn(\"Variables are collinear.\")\n"
     ]
    },
    {
     "data": {
      "text/plain": [
       "LinearDiscriminantAnalysis(n_components=None, priors=None, shrinkage=None,\n",
       "              solver='svd', store_covariance=False, tol=0.0001)"
      ]
     },
     "execution_count": 34,
     "metadata": {},
     "output_type": "execute_result"
    }
   ],
   "source": [
    "from sklearn.discriminant_analysis import LinearDiscriminantAnalysis as lda\n",
    "\n",
    "lda_svd = lda()\n",
    "lda_svd.fit(abDataScale,abRel)"
   ]
  },
  {
   "cell_type": "markdown",
   "metadata": {},
   "source": [
    "Stepwise Regression due to Collinearity: Least Angle Regression (LARS)"
   ]
  },
  {
   "cell_type": "code",
   "execution_count": 38,
   "metadata": {
    "collapsed": false
   },
   "outputs": [
    {
     "data": {
      "text/plain": [
       "Lars(copy_X=True, eps=2.2204460492503131e-16, fit_intercept=True,\n",
       "   fit_path=True, n_nonzero_coefs=500, normalize=True, positive=False,\n",
       "   precompute='auto', verbose=True)"
      ]
     },
     "execution_count": 38,
     "metadata": {},
     "output_type": "execute_result"
    }
   ],
   "source": [
    "## LARS is similar to forward stepwise regression\n",
    "from sklearn.linear_model import Lars\n",
    "\n",
    "stepwise = Lars()\n",
    "stepwise.fit(abData,abRel)"
   ]
  },
  {
   "cell_type": "code",
   "execution_count": 54,
   "metadata": {
    "collapsed": false
   },
   "outputs": [],
   "source": [
    "## Reduced Dimensionality from 7551 to 388\n",
    "abDataSelect = abDataScale[:,stepwise.active_]"
   ]
  },
  {
   "cell_type": "code",
   "execution_count": 55,
   "metadata": {
    "collapsed": false
   },
   "outputs": [
    {
     "name": "stdout",
     "output_type": "stream",
     "text": [
      "\n",
      "Training Score\n",
      "[[95  0  0]\n",
      " [ 0 94  0]\n",
      " [ 0  0 90]]\n",
      "Accuracy:  1.0\n",
      "\n",
      "AB Test Score\n",
      "[[0 0 0]\n",
      " [0 0 2]\n",
      " [2 0 4]]\n",
      "Accuracy:  0.5\n",
      "\n",
      "CD Test Score\n",
      "[[41 29 26]\n",
      " [32 36 28]\n",
      " [29 35 32]]\n",
      "Accuracy:  0.378472222222\n"
     ]
    }
   ],
   "source": [
    "## LARS data rf ##\n",
    "rf = RandomForestClassifier(n_estimators = 50)\n",
    "rf.fit(abDataSelect[1:280,],abRel[1:280])\n",
    "\n",
    "print(\"\\nTraining Score\")\n",
    "abTest = confusion_matrix(y_true = abRel[1:280],y_pred=rf.predict(abDataSelect[1:280,]))\n",
    "print(abTest)\n",
    "print(\"Accuracy: \", (abTest[0,0]+abTest[1,1]+abTest[2,2])/len(abRel[1:280]))\n",
    "\n",
    "print(\"\\nAB Test Score\")\n",
    "abTest = confusion_matrix(y_true = abRel[280:],y_pred=rf.predict(abDataSelect[280:,]))\n",
    "print(abTest)\n",
    "print(\"Accuracy: \", (abTest[0,0]+abTest[1,1]+abTest[2,2])/len(abRel[280:]))\n",
    "\n",
    "cdDataSelect = cdDataScale[:,stepwise.active_]\n",
    "print(\"\\nCD Test Score\")\n",
    "abTest = confusion_matrix(y_true = cdRel,y_pred=rf.predict(cdDataSelect))\n",
    "print(abTest)\n",
    "print(\"Accuracy: \", (abTest[0,0]+abTest[1,1]+abTest[2,2])/len(cdRel))"
   ]
  },
  {
   "cell_type": "markdown",
   "metadata": {},
   "source": [
    "Stepwise Regression on CD Data to compare to AB"
   ]
  },
  {
   "cell_type": "code",
   "execution_count": 56,
   "metadata": {
    "collapsed": false
   },
   "outputs": [
    {
     "data": {
      "text/plain": [
       "Lars(copy_X=True, eps=2.2204460492503131e-16, fit_intercept=True,\n",
       "   fit_path=True, n_nonzero_coefs=500, normalize=True, positive=False,\n",
       "   precompute='auto', verbose=False)"
      ]
     },
     "execution_count": 56,
     "metadata": {},
     "output_type": "execute_result"
    }
   ],
   "source": [
    "CDstepwise = Lars()\n",
    "CDstepwise.fit(cdData,cdRel)"
   ]
  },
  {
   "cell_type": "code",
   "execution_count": 58,
   "metadata": {
    "collapsed": false
   },
   "outputs": [
    {
     "data": {
      "text/plain": [
       "392"
      ]
     },
     "execution_count": 58,
     "metadata": {},
     "output_type": "execute_result"
    }
   ],
   "source": [
    "len(CDstepwise.active_)"
   ]
  },
  {
   "cell_type": "code",
   "execution_count": 60,
   "metadata": {
    "collapsed": false
   },
   "outputs": [],
   "source": [
    "stepwise2 = []\n",
    "for i in stepwise.active_:\n",
    "    if i in CDstepwise.active_:\n",
    "        stepwise2.append(i)"
   ]
  },
  {
   "cell_type": "code",
   "execution_count": 62,
   "metadata": {
    "collapsed": false
   },
   "outputs": [
    {
     "data": {
      "text/plain": [
       "38"
      ]
     },
     "execution_count": 62,
     "metadata": {},
     "output_type": "execute_result"
    }
   ],
   "source": [
    "len(stepwise2)"
   ]
  },
  {
   "cell_type": "code",
   "execution_count": 63,
   "metadata": {
    "collapsed": false
   },
   "outputs": [
    {
     "data": {
      "text/plain": [
       "[5838,\n",
       " 1382,\n",
       " 6035,\n",
       " 301,\n",
       " 476,\n",
       " 5187,\n",
       " 1995,\n",
       " 7420,\n",
       " 629,\n",
       " 3574,\n",
       " 3207,\n",
       " 2263,\n",
       " 4173,\n",
       " 6214,\n",
       " 6606,\n",
       " 4769,\n",
       " 402,\n",
       " 3511,\n",
       " 6985,\n",
       " 4682,\n",
       " 5568,\n",
       " 5461,\n",
       " 5338,\n",
       " 659,\n",
       " 620,\n",
       " 3829,\n",
       " 2778,\n",
       " 2155,\n",
       " 3130,\n",
       " 1604,\n",
       " 1063,\n",
       " 6473,\n",
       " 1753,\n",
       " 4987,\n",
       " 6386,\n",
       " 6021,\n",
       " 6569,\n",
       " 3347]"
      ]
     },
     "execution_count": 63,
     "metadata": {},
     "output_type": "execute_result"
    }
   ],
   "source": [
    "stepwise2"
   ]
  },
  {
   "cell_type": "markdown",
   "metadata": {},
   "source": [
    "Compare P vals from Conjoined Stepwise and AB Stepwise"
   ]
  },
  {
   "cell_type": "code",
   "execution_count": 76,
   "metadata": {
    "collapsed": false
   },
   "outputs": [
    {
     "name": "stdout",
     "output_type": "stream",
     "text": [
      "\n",
      "AB Stepwise, Test Score\n",
      "[[41 30 25]\n",
      " [32 37 27]\n",
      " [31 34 31]]\n",
      "Accuracy:  0.378472222222\n",
      "\n",
      "CD Stepwise, Test Score\n",
      "[[42 32 22]\n",
      " [29 41 26]\n",
      " [32 37 27]]\n",
      "Accuracy:  0.381944444444\n",
      "\n",
      "Combined Stepwise, Test Score\n",
      "[[30 31 35]\n",
      " [28 38 30]\n",
      " [36 36 24]]\n",
      "Accuracy:  0.319444444444\n"
     ]
    }
   ],
   "source": [
    "rf = RandomForestClassifier(n_estimators = 50)\n",
    "rf.fit(abDataScale[:,stepwise.active_],abRel)\n",
    "\n",
    "cdDataSelect = cdDataScale[:,stepwise.active_]\n",
    "print(\"\\nAB Stepwise, Test Score\")\n",
    "abTest = confusion_matrix(y_true = cdRel,y_pred=rf.predict(cdDataSelect))\n",
    "print(abTest)\n",
    "print(\"Accuracy: \", (abTest[0,0]+abTest[1,1]+abTest[2,2])/len(cdRel))\n",
    "\n",
    "rf = RandomForestClassifier(n_estimators = 50)\n",
    "rf.fit(abDataScale[:,CDstepwise.active_],abRel)\n",
    "\n",
    "\n",
    "cdDataSelect = cdDataScale[:,CDstepwise.active_]\n",
    "print(\"\\nCD Stepwise, Test Score\")\n",
    "abTest = confusion_matrix(y_true = cdRel,y_pred=rf.predict(cdDataSelect))\n",
    "print(abTest)\n",
    "print(\"Accuracy: \", (abTest[0,0]+abTest[1,1]+abTest[2,2])/len(cdRel))\n",
    "\n",
    "\n",
    "rf = RandomForestClassifier(n_estimators = 50)\n",
    "rf.fit(abDataScale[:,stepwise2],abRel)\n",
    "\n",
    "\n",
    "cdDataSelect = cdDataScale[:,stepwise2]\n",
    "print(\"\\nCombined Stepwise, Test Score\")\n",
    "abTest = confusion_matrix(y_true = cdRel,y_pred=rf.predict(cdDataSelect))\n",
    "print(abTest)\n",
    "print(\"Accuracy: \", (abTest[0,0]+abTest[1,1]+abTest[2,2])/len(cdRel))"
   ]
  },
  {
   "cell_type": "markdown",
   "metadata": {},
   "source": [
    "Fighting The Free Lunch: Trying above with LDA"
   ]
  },
  {
   "cell_type": "code",
   "execution_count": 77,
   "metadata": {
    "collapsed": false
   },
   "outputs": [
    {
     "name": "stdout",
     "output_type": "stream",
     "text": [
      "\n",
      "AB Stepwise, Test Score\n",
      "[[30 25 41]\n",
      " [32 24 40]\n",
      " [38 30 28]]\n",
      "Accuracy:  0.284722222222\n",
      "\n",
      "CD Stepwise, Test Score\n",
      "[[26 33 37]\n",
      " [26 25 45]\n",
      " [34 41 21]]\n",
      "Accuracy:  0.25\n",
      "\n",
      "Combined Stepwise, Test Score\n",
      "[[37 26 33]\n",
      " [29 33 34]\n",
      " [39 19 38]]\n",
      "Accuracy:  0.375\n"
     ]
    },
    {
     "name": "stderr",
     "output_type": "stream",
     "text": [
      "C:\\Users\\adam1brownell\\Anaconda2\\envs\\py36\\lib\\site-packages\\sklearn\\discriminant_analysis.py:388: UserWarning: Variables are collinear.\n",
      "  warnings.warn(\"Variables are collinear.\")\n"
     ]
    }
   ],
   "source": [
    "lda_svd = lda()\n",
    "lda_svd.fit(abDataScale[:,stepwise.active_],abRel)\n",
    "\n",
    "cdDataSelect = cdDataScale[:,stepwise.active_]\n",
    "print(\"\\nAB Stepwise, Test Score\")\n",
    "abTest = confusion_matrix(y_true = cdRel,y_pred=lda_svd.predict(cdDataSelect))\n",
    "print(abTest)\n",
    "print(\"Accuracy: \", (abTest[0,0]+abTest[1,1]+abTest[2,2])/len(cdRel))\n",
    "\n",
    "lda_svd = lda()\n",
    "lda_svd.fit(abDataScale[:,CDstepwise.active_],abRel)\n",
    "\n",
    "cdDataSelect = cdDataScale[:,CDstepwise.active_]\n",
    "print(\"\\nCD Stepwise, Test Score\")\n",
    "abTest = confusion_matrix(y_true = cdRel,y_pred=lda_svd.predict(cdDataSelect))\n",
    "print(abTest)\n",
    "print(\"Accuracy: \", (abTest[0,0]+abTest[1,1]+abTest[2,2])/len(cdRel))\n",
    "\n",
    "\n",
    "lda_svd = lda()\n",
    "lda_svd.fit(abDataScale[:,stepwise2],abRel)\n",
    "\n",
    "cdDataSelect = cdDataScale[:,stepwise2]\n",
    "print(\"\\nCombined Stepwise, Test Score\")\n",
    "abTest = confusion_matrix(y_true = cdRel,y_pred=lda_svd.predict(cdDataSelect))\n",
    "print(abTest)\n",
    "print(\"Accuracy: \", (abTest[0,0]+abTest[1,1]+abTest[2,2])/len(cdRel))"
   ]
  },
  {
   "cell_type": "code",
   "execution_count": null,
   "metadata": {
    "collapsed": true
   },
   "outputs": [],
   "source": []
  }
 ],
 "metadata": {
  "anaconda-cloud": {},
  "kernelspec": {
   "display_name": "Python [conda env:py36]",
   "language": "python",
   "name": "conda-env-py36-py"
  },
  "language_info": {
   "codemirror_mode": {
    "name": "ipython",
    "version": 3
   },
   "file_extension": ".py",
   "mimetype": "text/x-python",
   "name": "python",
   "nbconvert_exporter": "python",
   "pygments_lexer": "ipython3",
   "version": "3.6.1"
  }
 },
 "nbformat": 4,
 "nbformat_minor": 2
}
