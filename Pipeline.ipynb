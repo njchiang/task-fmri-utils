{
 "cells": [
  {
   "cell_type": "markdown",
   "metadata": {},
   "source": [
    "Loading data (MatExample)"
   ]
  },
  {
   "cell_type": "code",
   "execution_count": 1,
   "metadata": {
    "collapsed": false
   },
   "outputs": [],
   "source": [
    "import scipy.io\n",
    "import numpy as np\n",
    "import os\n",
    "os.chdir('C:\\\\Users\\\\adam1brownell' + '\\Documents\\Dev101\\MontiLab')\n",
    "\n",
    "subj = \"01\" #Within Subject Models\n",
    "\n",
    "#AB Data Load\n",
    "abLoad = scipy.io.loadmat(\"sub-\"+subj+\"_task-analogy_ab-betas-ba10.mat\")\n",
    "abData    = abLoad[\"data\"]      # actual data (numpy array)\n",
    "abAnalogy = abLoad[\"trial_id\"]  # actual analogy they saw\n",
    "abArray   = abLoad[\"main_rel\"]  # main relationship (1,2,3)\n",
    "abRel     = [abArray[0,i][0]for i in range(288)] #I'm cheating and now there are 288 examples\n",
    "abSub     = abLoad[\"sub_rel\"]   # sub relationship (1-9)\n",
    "\n",
    "#CD Data Load\n",
    "cdLoad = scipy.io.loadmat(\"sub-\"+subj+\"_task-analogy_cd-betas-ba10.mat\")\n",
    "cdData    = cdLoad[\"data\"]      # actual data (numpy array)\n",
    "cdAnalogy = cdLoad[\"trial_id\"]  # actual analogy they saw\n",
    "cdArray   = cdLoad[\"main_rel\"]  # main relationship (1,2,3)\n",
    "cdRel     = [cdArray[0,i][0]for i in range(288)] #I'm cheating and now there are 288 examples\n",
    "cdSub     = cdLoad[\"sub_rel\"]   # sub relationship (1-9)\n"
   ]
  },
  {
   "cell_type": "code",
   "execution_count": 2,
   "metadata": {
    "collapsed": false
   },
   "outputs": [],
   "source": [
    "# Load Human Data\n",
    "import pandas as pd\n",
    "\n",
    "humanData = pd.read_csv('C:\\\\Users\\\\adam1brownell\\\\Desktop\\\\humanratings.csv', header = 2)\n",
    "humanData.columns = humanData.columns.str.replace(humanData.columns[0],'Analogy')"
   ]
  },
  {
   "cell_type": "code",
   "execution_count": 3,
   "metadata": {
    "collapsed": false
   },
   "outputs": [],
   "source": [
    "# Word2Vec can represent the way the brain stores analogous relations\n",
    "# Ridge Regression on the Imported data"
   ]
  },
  {
   "cell_type": "code",
   "execution_count": 4,
   "metadata": {
    "collapsed": true
   },
   "outputs": [],
   "source": [
    "# Pipeline\n",
    "\n",
    "# Input of a new dataset\n",
    "# For each voxel:\n",
    "    # Test correlation of each voxel output to the feature\n",
    "    # Ridge regression with y being the voxel and x being input data"
   ]
  },
  {
   "cell_type": "code",
   "execution_count": 5,
   "metadata": {
    "collapsed": false
   },
   "outputs": [
    {
     "data": {
      "text/html": [
       "<div>\n",
       "<style>\n",
       "    .dataframe thead tr:only-child th {\n",
       "        text-align: right;\n",
       "    }\n",
       "\n",
       "    .dataframe thead th {\n",
       "        text-align: left;\n",
       "    }\n",
       "\n",
       "    .dataframe tbody tr th {\n",
       "        vertical-align: top;\n",
       "    }\n",
       "</style>\n",
       "<table border=\"1\" class=\"dataframe\">\n",
       "  <thead>\n",
       "    <tr style=\"text-align: right;\">\n",
       "      <th></th>\n",
       "      <th>Analogy</th>\n",
       "      <th>Synonymity</th>\n",
       "      <th>AttributeSimilarity</th>\n",
       "      <th>Change</th>\n",
       "      <th>Contrary</th>\n",
       "      <th>Directional</th>\n",
       "      <th>Pseudoantonym</th>\n",
       "      <th>Cause:Effect</th>\n",
       "      <th>Cause:CompensatoryAction</th>\n",
       "      <th>Action/Activity:Goal</th>\n",
       "    </tr>\n",
       "  </thead>\n",
       "  <tbody>\n",
       "    <tr>\n",
       "      <th>0</th>\n",
       "      <td>house:home</td>\n",
       "      <td>0.088388</td>\n",
       "      <td>0.001103</td>\n",
       "      <td>0.001103</td>\n",
       "      <td>0.0</td>\n",
       "      <td>0.0</td>\n",
       "      <td>0.0</td>\n",
       "      <td>0.0</td>\n",
       "      <td>0.0</td>\n",
       "      <td>0.0</td>\n",
       "    </tr>\n",
       "    <tr>\n",
       "      <th>1</th>\n",
       "      <td>kid:child</td>\n",
       "      <td>0.088141</td>\n",
       "      <td>0.001103</td>\n",
       "      <td>0.001103</td>\n",
       "      <td>0.0</td>\n",
       "      <td>0.0</td>\n",
       "      <td>0.0</td>\n",
       "      <td>0.0</td>\n",
       "      <td>0.0</td>\n",
       "      <td>0.0</td>\n",
       "    </tr>\n",
       "    <tr>\n",
       "      <th>2</th>\n",
       "      <td>raise:elevate</td>\n",
       "      <td>0.087645</td>\n",
       "      <td>0.001103</td>\n",
       "      <td>0.001103</td>\n",
       "      <td>0.0</td>\n",
       "      <td>0.0</td>\n",
       "      <td>0.0</td>\n",
       "      <td>0.0</td>\n",
       "      <td>0.0</td>\n",
       "      <td>0.0</td>\n",
       "    </tr>\n",
       "    <tr>\n",
       "      <th>3</th>\n",
       "      <td>teach:instruct</td>\n",
       "      <td>0.079970</td>\n",
       "      <td>0.001103</td>\n",
       "      <td>0.001103</td>\n",
       "      <td>0.0</td>\n",
       "      <td>0.0</td>\n",
       "      <td>0.0</td>\n",
       "      <td>0.0</td>\n",
       "      <td>0.0</td>\n",
       "      <td>0.0</td>\n",
       "    </tr>\n",
       "    <tr>\n",
       "      <th>4</th>\n",
       "      <td>big:large</td>\n",
       "      <td>0.077990</td>\n",
       "      <td>0.001103</td>\n",
       "      <td>0.001103</td>\n",
       "      <td>0.0</td>\n",
       "      <td>0.0</td>\n",
       "      <td>0.0</td>\n",
       "      <td>0.0</td>\n",
       "      <td>0.0</td>\n",
       "      <td>0.0</td>\n",
       "    </tr>\n",
       "  </tbody>\n",
       "</table>\n",
       "</div>"
      ],
      "text/plain": [
       "          Analogy  Synonymity  AttributeSimilarity    Change  Contrary  \\\n",
       "0      house:home    0.088388             0.001103  0.001103       0.0   \n",
       "1       kid:child    0.088141             0.001103  0.001103       0.0   \n",
       "2   raise:elevate    0.087645             0.001103  0.001103       0.0   \n",
       "3  teach:instruct    0.079970             0.001103  0.001103       0.0   \n",
       "4       big:large    0.077990             0.001103  0.001103       0.0   \n",
       "\n",
       "   Directional  Pseudoantonym  Cause:Effect  Cause:CompensatoryAction  \\\n",
       "0          0.0            0.0           0.0                       0.0   \n",
       "1          0.0            0.0           0.0                       0.0   \n",
       "2          0.0            0.0           0.0                       0.0   \n",
       "3          0.0            0.0           0.0                       0.0   \n",
       "4          0.0            0.0           0.0                       0.0   \n",
       "\n",
       "   Action/Activity:Goal  \n",
       "0                   0.0  \n",
       "1                   0.0  \n",
       "2                   0.0  \n",
       "3                   0.0  \n",
       "4                   0.0  "
      ]
     },
     "execution_count": 5,
     "metadata": {},
     "output_type": "execute_result"
    }
   ],
   "source": [
    "humanData.head()"
   ]
  },
  {
   "cell_type": "code",
   "execution_count": 6,
   "metadata": {
    "collapsed": false
   },
   "outputs": [
    {
     "name": "stdout",
     "output_type": "stream",
     "text": [
      "Masking C:\\Users\\adam1brownell\\Documents\\GitHub\\task-fmri-utils\\analogy001_grayMatter_betas_LSA.nii\n",
      "Loading label file from: C:\\Users\\adam1brownell\\Documents\\GitHub\\task-fmri-utils\\sub-01_task-analogy_events-pymvpa.tsv\n",
      "Reading file from: C:\\Users\\adam1brownell\\Documents\\GitHub\\task-fmri-utils\\aal-LOFC-bin_mask.nii\n",
      "Reading file from: C:\\Users\\adam1brownell\\Documents\\GitHub\\task-fmri-utils\\analogy001_grayMatter_betas_LSA.nii\n"
     ]
    }
   ],
   "source": [
    "# Load Voxel Data\n",
    "%matplotlib inline\n",
    "projecttitle = 'Analogy'\n",
    "import sys\n",
    "sys.path.append(os.path.join(\"/Users\", \"adam1brownell\", \"Documents\", \"GitHub\", \"task-fmri-utils\"))\n",
    "\n",
    "import fmri_core as pa\n",
    "import numpy as np\n",
    "# Load Entire Grey Matter\n",
    "imgFile= \"C:\\\\Users\\\\adam1brownell\\\\Documents\\\\GitHub\\\\task-fmri-utils\\\\analogy001_grayMatter_betas_LSA.nii\"\n",
    "labFile=  \"C:\\\\Users\\\\adam1brownell\\\\Documents\\\\GitHub\\\\task-fmri-utils\\\\sub-01_task-analogy_events-pymvpa.tsv\"\n",
    "mask=    \"C:\\\\Users\\\\adam1brownell\\\\Documents\\\\GitHub\\\\task-fmri-utils\\\\aal-LOFC-bin_mask.nii\"\n",
    "\n",
    "maskedImg = pa.utils.maskImg(imgFile, mask)\n",
    "labels = pa.utils.loadLabels(labFile, sep='\\t', index_col=0)\n",
    "\n",
    "#Apply Mask\n",
    "maskr = pa.utils.loadImg(mask)\n",
    "imgr = pa.utils.loadImg(imgFile)\n",
    "maskd = np.array(maskr.get_data())\n",
    "imgd = np.array(imgr.get_data())"
   ]
  },
  {
   "cell_type": "code",
   "execution_count": 79,
   "metadata": {
    "collapsed": false
   },
   "outputs": [
    {
     "data": {
      "text/plain": [
       "array([ 20.60161972, -29.19544601,   7.21172047, ...,   0.        ,\n",
       "         0.        ,   0.        ])"
      ]
     },
     "execution_count": 79,
     "metadata": {},
     "output_type": "execute_result"
    }
   ],
   "source": []
  },
  {
   "cell_type": "code",
   "execution_count": 58,
   "metadata": {
    "collapsed": false
   },
   "outputs": [],
   "source": [
    "# analogOrder is a function that scrapes the AB analogy from each trial in\n",
    "# labels and then adds the row that corresponds to that analogy\n",
    "\n",
    "# It currently assumes that newData is a panda with a column entitled 'Analogy'\n",
    "# Reminder that labels will have more rows that newData since they ran the experiment\n",
    "\n",
    "def analogyOrder(newData,labels, regex = False):\n",
    "    \n",
    "    analogyDF = pd.DataFrame() #Initialize empty DF\n",
    "    \n",
    "    #If we need to parse the data...\n",
    "    if(regex):\n",
    "        import re\n",
    "        for row in range(len(labels)): #For every trial in the testing data...\n",
    "\n",
    "                # Pull analogy for analogy pair, which is saved 'word1:word2::word3:word4' for AB + CD trials\n",
    "                analogy = re.split(\"::\", labels.trialtag[row])[0]\n",
    "\n",
    "                # Find appropriate analogy data from newData and append to new DF\n",
    "                newAnalogy = newData.loc[newData['Analogy'] == analogy]\n",
    "                analogyDF = pd.concat([analogyDF,newAnalogy])\n",
    "            \n",
    "    # If the labels are nice/ already parsed\n",
    "    else:\n",
    "        \n",
    "        for i in range(len(labels)): #For every trial in the testing data...\n",
    "        \n",
    "            analogy = labels.abtag[i]\n",
    "            # Find appropriate analogy data from newData and append to new DF\n",
    "            newAnalogy = newData.loc[newData['Analogy'] == analogy]\n",
    "            analogyDF = pd.concat([analogyDF,newAnalogy])\n",
    "            \n",
    "            \n",
    "            \n",
    "    return analogyDF\n",
    "        \n",
    "        "
   ]
  },
  {
   "cell_type": "code",
   "execution_count": 109,
   "metadata": {
    "collapsed": false
   },
   "outputs": [],
   "source": [
    "# searlightCorr calculates correlation of newData to each voxel from fMRI voxels\n",
    "# This is done by running Ridge regression on both the newData and \n",
    "# a dummy regressor, where x = data and y = voxel value per trial\n",
    "\n",
    "\n",
    "# TODO: Run a test to see how it will perform!\n",
    "\n",
    "# TODO: Change voxel data to just AB voxel data\n",
    "\n",
    "def searchlightCorr(newData, voxelData, labels):\n",
    "    from sklearn import preprocessing\n",
    "    from sklearn.linear_model import Ridge\n",
    "    from sklearn.dummy import DummyRegressor #It is a regressor because voxel values are continuous\n",
    "    \n",
    "    \n",
    "    # new Data should be [n x m] matrix of prediction\n",
    "    # voxel Data should be [n x z] matrix of voxel outputs\n",
    "    \n",
    "    # Quickly cut labels + Voxels down into just AB trials\n",
    "    abLabels = labels[labels.ab == 1]\n",
    "    vData = voxelData[abLabels.index,:]\n",
    "    indx = [i for i in range(len(abLabels))]\n",
    "    abLabels.index = indx\n",
    "    \n",
    "    #orderedData will be a DF that is in the correct order of analogy pairs, according to voxel labels\n",
    "    print('Reorderiing Analogies...')\n",
    "    orderedData = analogyOrder(newData,abLabels)\n",
    "    \n",
    "    #Crop out analogy column, which is the first column.\n",
    "    filterData = orderedData.loc[:,orderedData.columns[1:]]\n",
    "    \n",
    "    RSSList = [] #Will hold RSS \n",
    "    CorrList = [] #Will hold difference between dummy and new data\n",
    "    # Scale newData\n",
    "    scaleData = preprocessing.scale(filterData)\n",
    "    \n",
    "    print('Running Searchlight...')\n",
    "    for col in range(vData.shape[1]):     # this spits out columns from voxel data\n",
    "        vox = vData[:,col]                # Voxels are the columns\n",
    "        ridge = Ridge()\n",
    "        dummy = DummyRegressor()\n",
    "        \n",
    "        # Fit Ridge + dummy versus this vox\n",
    "        ridge.fit(scaleData,vox)\n",
    "        dummy.fit(scaleData,vox)\n",
    "        \n",
    "        # Predict\n",
    "        ridgePred = ridge.predict(scaleData)\n",
    "        dummyPred = dummy.predict(scaleData)\n",
    "        \n",
    "        # Score\n",
    "        ridgeR2 = ridge.score(scaleData,vox)\n",
    "        dummyR2 = dummy.score(scaleData,vox)\n",
    "        #ridgeRSS = sum((ridgePred-vox)**2)\n",
    "        #dummyRSS = sum((dummyPred-vox)**2)\n",
    "        \n",
    "        # Find difference and add to list\n",
    "        RSSList.append(ridgeR2)\n",
    "        CorrList.append(ridgeR2-dummyR2)\n",
    "        \n",
    "        #RSSList.append(ridgeRSS)\n",
    "        #CorrList.append(ridgeRSS-dummyRSS)\n",
    "        \n",
    "    import matplotlib.pyplot as plt\n",
    "    \n",
    "    #Build X axis as long as number of voxels\n",
    "    voxList = [i for i in range(vData.shape[1])]\n",
    "    \n",
    "    #Plot both ridge RSS and difference\n",
    "    plt.plot(voxList,RSSList, 'b', label = 'RSS')\n",
    "    plt.plot(voxList, CorrList, 'r', label = 'Performance vs. Dummy')\n",
    "    plt.ylim([-1,1])\n",
    "    plt.title(\"Correlation per Voxel\")\n",
    "    \n",
    "    #Print Cumulative Success\n",
    "    \n",
    "    print(\"Data Performance: \",float(sum(RSSList))/len(RSSList) )\n",
    "    print(\"Dummy Performance: \",float(sum([RSSList[i] - CorrList[i] for i in range(len(RSSList))])/len(RSSList)) )\n",
    "    \n",
    "        \n",
    "        \n",
    "# TODO: Unmasked\n",
    "# pa.util.unmaskImg\n",
    "    "
   ]
  },
  {
   "cell_type": "code",
   "execution_count": 110,
   "metadata": {
    "collapsed": false
   },
   "outputs": [
    {
     "name": "stdout",
     "output_type": "stream",
     "text": [
      "Reorderiing Analogies...\n",
      "Running Searchlight...\n",
      "Data Performance:  0.06011395463484811\n",
      "Dummy Performance:  0.031651436895775396\n"
     ]
    },
    {
     "data": {
      "image/png": "[encoded data removed]",
      "text/plain": [
       "<matplotlib.figure.Figure at 0x1a0f1e66780>"
      ]
     },
     "metadata": {},
     "output_type": "display_data"
    }
   ],
   "source": [
    "searchlightCorr(humanData,maskedImg,labels)"
   ]
  },
  {
   "cell_type": "code",
   "execution_count": 81,
   "metadata": {
    "collapsed": false
   },
   "outputs": [
    {
     "data": {
      "text/plain": [
       "(288, 7551)"
      ]
     },
     "execution_count": 81,
     "metadata": {},
     "output_type": "execute_result"
    }
   ],
   "source": [
    "abLabels = labels[labels.ab == 1]\n",
    "x = maskedImg[abLabels.index,:]"
   ]
  },
  {
   "cell_type": "code",
   "execution_count": 108,
   "metadata": {
    "collapsed": true
   },
   "outputs": [],
   "source": [
    "import matplotlib.pyplot as plt"
   ]
  },
  {
   "cell_type": "code",
   "execution_count": null,
   "metadata": {
    "collapsed": true
   },
   "outputs": [],
   "source": [
    "plt.ylim"
   ]
  }
 ],
 "metadata": {
  "anaconda-cloud": {},
  "kernelspec": {
   "display_name": "Python [conda env:py36]",
   "language": "python",
   "name": "conda-env-py36-py"
  },
  "language_info": {
   "codemirror_mode": {
    "name": "ipython",
    "version": 3
   },
   "file_extension": ".py",
   "mimetype": "text/x-python",
   "name": "python",
   "nbconvert_exporter": "python",
   "pygments_lexer": "ipython3",
   "version": "3.6.1"
  }
 },
 "nbformat": 4,
 "nbformat_minor": 1
}
